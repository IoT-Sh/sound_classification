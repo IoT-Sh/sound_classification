{
 "cells": [
  {
   "cell_type": "code",
   "execution_count": 2,
   "id": "2a61065d-24bd-423a-be01-b1005f864987",
   "metadata": {},
   "outputs": [
    {
     "data": {
      "text/html": [
       "<div>\n",
       "<style scoped>\n",
       "    .dataframe tbody tr th:only-of-type {\n",
       "        vertical-align: middle;\n",
       "    }\n",
       "\n",
       "    .dataframe tbody tr th {\n",
       "        vertical-align: top;\n",
       "    }\n",
       "\n",
       "    .dataframe thead th {\n",
       "        text-align: right;\n",
       "    }\n",
       "</style>\n",
       "<table border=\"1\" class=\"dataframe\">\n",
       "  <thead>\n",
       "    <tr style=\"text-align: right;\">\n",
       "      <th></th>\n",
       "      <th>Patient ID</th>\n",
       "      <th>Diagnosis</th>\n",
       "      <th>basicDiagnosis</th>\n",
       "    </tr>\n",
       "  </thead>\n",
       "  <tbody>\n",
       "    <tr>\n",
       "      <th>0</th>\n",
       "      <td>101</td>\n",
       "      <td>URTI</td>\n",
       "      <td>Unhealthy</td>\n",
       "    </tr>\n",
       "    <tr>\n",
       "      <th>1</th>\n",
       "      <td>102</td>\n",
       "      <td>Healthy</td>\n",
       "      <td>Healthy</td>\n",
       "    </tr>\n",
       "    <tr>\n",
       "      <th>2</th>\n",
       "      <td>103</td>\n",
       "      <td>Asthma</td>\n",
       "      <td>Unhealthy</td>\n",
       "    </tr>\n",
       "    <tr>\n",
       "      <th>3</th>\n",
       "      <td>104</td>\n",
       "      <td>COPD</td>\n",
       "      <td>Unhealthy</td>\n",
       "    </tr>\n",
       "    <tr>\n",
       "      <th>4</th>\n",
       "      <td>105</td>\n",
       "      <td>URTI</td>\n",
       "      <td>Unhealthy</td>\n",
       "    </tr>\n",
       "    <tr>\n",
       "      <th>5</th>\n",
       "      <td>106</td>\n",
       "      <td>COPD</td>\n",
       "      <td>Unhealthy</td>\n",
       "    </tr>\n",
       "    <tr>\n",
       "      <th>6</th>\n",
       "      <td>107</td>\n",
       "      <td>COPD</td>\n",
       "      <td>Unhealthy</td>\n",
       "    </tr>\n",
       "    <tr>\n",
       "      <th>7</th>\n",
       "      <td>108</td>\n",
       "      <td>LRTI</td>\n",
       "      <td>Unhealthy</td>\n",
       "    </tr>\n",
       "    <tr>\n",
       "      <th>8</th>\n",
       "      <td>109</td>\n",
       "      <td>COPD</td>\n",
       "      <td>Unhealthy</td>\n",
       "    </tr>\n",
       "    <tr>\n",
       "      <th>9</th>\n",
       "      <td>110</td>\n",
       "      <td>COPD</td>\n",
       "      <td>Unhealthy</td>\n",
       "    </tr>\n",
       "  </tbody>\n",
       "</table>\n",
       "</div>"
      ],
      "text/plain": [
       "   Patient ID Diagnosis basicDiagnosis\n",
       "0         101      URTI      Unhealthy\n",
       "1         102   Healthy        Healthy\n",
       "2         103    Asthma      Unhealthy\n",
       "3         104      COPD      Unhealthy\n",
       "4         105      URTI      Unhealthy\n",
       "5         106      COPD      Unhealthy\n",
       "6         107      COPD      Unhealthy\n",
       "7         108      LRTI      Unhealthy\n",
       "8         109      COPD      Unhealthy\n",
       "9         110      COPD      Unhealthy"
      ]
     },
     "execution_count": 2,
     "metadata": {},
     "output_type": "execute_result"
    }
   ],
   "source": [
    "import pandas as pd\n",
    "\n",
    "diagnosis_df = pd.read_csv(r'/home/archlinux/Drive-A/Lung_sound_Dtaset/Respiratory_Sound_Database/Respiratory_Sound_Database/patient_diagnosis.csv', names=['Patient ID', 'Diagnosis'])\n",
    "diagnosis_df['basicDiagnosis'] = diagnosis_df['Diagnosis'].apply(lambda x: 'Healthy' if x =='Healthy'  else 'Unhealthy')\n",
    "diagnosis_df.head(10)"
   ]
  },
  {
   "cell_type": "code",
   "execution_count": 3,
   "id": "74f56a3b-89a2-411d-b429-66c43864efd8",
   "metadata": {},
   "outputs": [
    {
     "data": {
      "text/html": [
       "<div>\n",
       "<style scoped>\n",
       "    .dataframe tbody tr th:only-of-type {\n",
       "        vertical-align: middle;\n",
       "    }\n",
       "\n",
       "    .dataframe tbody tr th {\n",
       "        vertical-align: top;\n",
       "    }\n",
       "\n",
       "    .dataframe thead th {\n",
       "        text-align: right;\n",
       "    }\n",
       "</style>\n",
       "<table border=\"1\" class=\"dataframe\">\n",
       "  <thead>\n",
       "    <tr style=\"text-align: right;\">\n",
       "      <th></th>\n",
       "      <th>Patient ID</th>\n",
       "      <th>Age</th>\n",
       "      <th>Gender</th>\n",
       "      <th>BMI (kg/m2)</th>\n",
       "      <th>Child Weight (kg)</th>\n",
       "      <th>Child Height (cm)</th>\n",
       "    </tr>\n",
       "  </thead>\n",
       "  <tbody>\n",
       "    <tr>\n",
       "      <th>0</th>\n",
       "      <td>101</td>\n",
       "      <td>3.00</td>\n",
       "      <td>F</td>\n",
       "      <td>NaN</td>\n",
       "      <td>19.0</td>\n",
       "      <td>99.0</td>\n",
       "    </tr>\n",
       "    <tr>\n",
       "      <th>1</th>\n",
       "      <td>102</td>\n",
       "      <td>0.75</td>\n",
       "      <td>F</td>\n",
       "      <td>NaN</td>\n",
       "      <td>9.8</td>\n",
       "      <td>73.0</td>\n",
       "    </tr>\n",
       "    <tr>\n",
       "      <th>2</th>\n",
       "      <td>103</td>\n",
       "      <td>70.00</td>\n",
       "      <td>F</td>\n",
       "      <td>33.00</td>\n",
       "      <td>NaN</td>\n",
       "      <td>NaN</td>\n",
       "    </tr>\n",
       "    <tr>\n",
       "      <th>3</th>\n",
       "      <td>104</td>\n",
       "      <td>70.00</td>\n",
       "      <td>F</td>\n",
       "      <td>28.47</td>\n",
       "      <td>NaN</td>\n",
       "      <td>NaN</td>\n",
       "    </tr>\n",
       "    <tr>\n",
       "      <th>4</th>\n",
       "      <td>105</td>\n",
       "      <td>7.00</td>\n",
       "      <td>F</td>\n",
       "      <td>NaN</td>\n",
       "      <td>32.0</td>\n",
       "      <td>135.0</td>\n",
       "    </tr>\n",
       "    <tr>\n",
       "      <th>5</th>\n",
       "      <td>106</td>\n",
       "      <td>73.00</td>\n",
       "      <td>F</td>\n",
       "      <td>21.00</td>\n",
       "      <td>NaN</td>\n",
       "      <td>NaN</td>\n",
       "    </tr>\n",
       "    <tr>\n",
       "      <th>6</th>\n",
       "      <td>107</td>\n",
       "      <td>75.00</td>\n",
       "      <td>F</td>\n",
       "      <td>33.70</td>\n",
       "      <td>NaN</td>\n",
       "      <td>NaN</td>\n",
       "    </tr>\n",
       "    <tr>\n",
       "      <th>7</th>\n",
       "      <td>108</td>\n",
       "      <td>3.00</td>\n",
       "      <td>M</td>\n",
       "      <td>NaN</td>\n",
       "      <td>NaN</td>\n",
       "      <td>NaN</td>\n",
       "    </tr>\n",
       "    <tr>\n",
       "      <th>8</th>\n",
       "      <td>109</td>\n",
       "      <td>84.00</td>\n",
       "      <td>F</td>\n",
       "      <td>33.53</td>\n",
       "      <td>NaN</td>\n",
       "      <td>NaN</td>\n",
       "    </tr>\n",
       "    <tr>\n",
       "      <th>9</th>\n",
       "      <td>110</td>\n",
       "      <td>75.00</td>\n",
       "      <td>M</td>\n",
       "      <td>25.21</td>\n",
       "      <td>NaN</td>\n",
       "      <td>NaN</td>\n",
       "    </tr>\n",
       "  </tbody>\n",
       "</table>\n",
       "</div>"
      ],
      "text/plain": [
       "   Patient ID    Age Gender  BMI (kg/m2)  Child Weight (kg)  Child Height (cm)\n",
       "0         101   3.00      F          NaN               19.0               99.0\n",
       "1         102   0.75      F          NaN                9.8               73.0\n",
       "2         103  70.00      F        33.00                NaN                NaN\n",
       "3         104  70.00      F        28.47                NaN                NaN\n",
       "4         105   7.00      F          NaN               32.0              135.0\n",
       "5         106  73.00      F        21.00                NaN                NaN\n",
       "6         107  75.00      F        33.70                NaN                NaN\n",
       "7         108   3.00      M          NaN                NaN                NaN\n",
       "8         109  84.00      F        33.53                NaN                NaN\n",
       "9         110  75.00      M        25.21                NaN                NaN"
      ]
     },
     "execution_count": 3,
     "metadata": {},
     "output_type": "execute_result"
    }
   ],
   "source": [
    "df_no_diagnosis = pd.read_csv(r'/home/archlinux/Drive-A/Lung_sound_Dtaset/demographic_info.txt', names = \n",
    "                 ['Patient ID', 'Age', 'Gender' , 'BMI (kg/m2)', 'Child Weight (kg)' , 'Child Height (cm)'],\n",
    "                 delimiter = ' ')\n",
    "df_no_diagnosis.head(10)"
   ]
  },
  {
   "cell_type": "code",
   "execution_count": 4,
   "id": "db277542-7fcc-495f-b591-7f06a24d300b",
   "metadata": {},
   "outputs": [
    {
     "data": {
      "text/html": [
       "<div>\n",
       "<style scoped>\n",
       "    .dataframe tbody tr th:only-of-type {\n",
       "        vertical-align: middle;\n",
       "    }\n",
       "\n",
       "    .dataframe tbody tr th {\n",
       "        vertical-align: top;\n",
       "    }\n",
       "\n",
       "    .dataframe thead th {\n",
       "        text-align: right;\n",
       "    }\n",
       "</style>\n",
       "<table border=\"1\" class=\"dataframe\">\n",
       "  <thead>\n",
       "    <tr style=\"text-align: right;\">\n",
       "      <th></th>\n",
       "      <th>Patient ID</th>\n",
       "      <th>Age</th>\n",
       "      <th>Gender</th>\n",
       "      <th>BMI (kg/m2)</th>\n",
       "      <th>Child Weight (kg)</th>\n",
       "      <th>Child Height (cm)</th>\n",
       "      <th>Diagnosis</th>\n",
       "      <th>basicDiagnosis</th>\n",
       "    </tr>\n",
       "  </thead>\n",
       "  <tbody>\n",
       "    <tr>\n",
       "      <th>0</th>\n",
       "      <td>101</td>\n",
       "      <td>3.00</td>\n",
       "      <td>F</td>\n",
       "      <td>NaN</td>\n",
       "      <td>19.0</td>\n",
       "      <td>99.0</td>\n",
       "      <td>URTI</td>\n",
       "      <td>Unhealthy</td>\n",
       "    </tr>\n",
       "    <tr>\n",
       "      <th>1</th>\n",
       "      <td>102</td>\n",
       "      <td>0.75</td>\n",
       "      <td>F</td>\n",
       "      <td>NaN</td>\n",
       "      <td>9.8</td>\n",
       "      <td>73.0</td>\n",
       "      <td>Healthy</td>\n",
       "      <td>Healthy</td>\n",
       "    </tr>\n",
       "    <tr>\n",
       "      <th>2</th>\n",
       "      <td>103</td>\n",
       "      <td>70.00</td>\n",
       "      <td>F</td>\n",
       "      <td>33.00</td>\n",
       "      <td>NaN</td>\n",
       "      <td>NaN</td>\n",
       "      <td>Asthma</td>\n",
       "      <td>Unhealthy</td>\n",
       "    </tr>\n",
       "    <tr>\n",
       "      <th>3</th>\n",
       "      <td>104</td>\n",
       "      <td>70.00</td>\n",
       "      <td>F</td>\n",
       "      <td>28.47</td>\n",
       "      <td>NaN</td>\n",
       "      <td>NaN</td>\n",
       "      <td>COPD</td>\n",
       "      <td>Unhealthy</td>\n",
       "    </tr>\n",
       "    <tr>\n",
       "      <th>4</th>\n",
       "      <td>105</td>\n",
       "      <td>7.00</td>\n",
       "      <td>F</td>\n",
       "      <td>NaN</td>\n",
       "      <td>32.0</td>\n",
       "      <td>135.0</td>\n",
       "      <td>URTI</td>\n",
       "      <td>Unhealthy</td>\n",
       "    </tr>\n",
       "    <tr>\n",
       "      <th>5</th>\n",
       "      <td>106</td>\n",
       "      <td>73.00</td>\n",
       "      <td>F</td>\n",
       "      <td>21.00</td>\n",
       "      <td>NaN</td>\n",
       "      <td>NaN</td>\n",
       "      <td>COPD</td>\n",
       "      <td>Unhealthy</td>\n",
       "    </tr>\n",
       "    <tr>\n",
       "      <th>6</th>\n",
       "      <td>107</td>\n",
       "      <td>75.00</td>\n",
       "      <td>F</td>\n",
       "      <td>33.70</td>\n",
       "      <td>NaN</td>\n",
       "      <td>NaN</td>\n",
       "      <td>COPD</td>\n",
       "      <td>Unhealthy</td>\n",
       "    </tr>\n",
       "    <tr>\n",
       "      <th>7</th>\n",
       "      <td>108</td>\n",
       "      <td>3.00</td>\n",
       "      <td>M</td>\n",
       "      <td>NaN</td>\n",
       "      <td>NaN</td>\n",
       "      <td>NaN</td>\n",
       "      <td>LRTI</td>\n",
       "      <td>Unhealthy</td>\n",
       "    </tr>\n",
       "    <tr>\n",
       "      <th>8</th>\n",
       "      <td>109</td>\n",
       "      <td>84.00</td>\n",
       "      <td>F</td>\n",
       "      <td>33.53</td>\n",
       "      <td>NaN</td>\n",
       "      <td>NaN</td>\n",
       "      <td>COPD</td>\n",
       "      <td>Unhealthy</td>\n",
       "    </tr>\n",
       "    <tr>\n",
       "      <th>9</th>\n",
       "      <td>110</td>\n",
       "      <td>75.00</td>\n",
       "      <td>M</td>\n",
       "      <td>25.21</td>\n",
       "      <td>NaN</td>\n",
       "      <td>NaN</td>\n",
       "      <td>COPD</td>\n",
       "      <td>Unhealthy</td>\n",
       "    </tr>\n",
       "  </tbody>\n",
       "</table>\n",
       "</div>"
      ],
      "text/plain": [
       "   Patient ID    Age Gender  BMI (kg/m2)  Child Weight (kg)  \\\n",
       "0         101   3.00      F          NaN               19.0   \n",
       "1         102   0.75      F          NaN                9.8   \n",
       "2         103  70.00      F        33.00                NaN   \n",
       "3         104  70.00      F        28.47                NaN   \n",
       "4         105   7.00      F          NaN               32.0   \n",
       "5         106  73.00      F        21.00                NaN   \n",
       "6         107  75.00      F        33.70                NaN   \n",
       "7         108   3.00      M          NaN                NaN   \n",
       "8         109  84.00      F        33.53                NaN   \n",
       "9         110  75.00      M        25.21                NaN   \n",
       "\n",
       "   Child Height (cm) Diagnosis basicDiagnosis  \n",
       "0               99.0      URTI      Unhealthy  \n",
       "1               73.0   Healthy        Healthy  \n",
       "2                NaN    Asthma      Unhealthy  \n",
       "3                NaN      COPD      Unhealthy  \n",
       "4              135.0      URTI      Unhealthy  \n",
       "5                NaN      COPD      Unhealthy  \n",
       "6                NaN      COPD      Unhealthy  \n",
       "7                NaN      LRTI      Unhealthy  \n",
       "8                NaN      COPD      Unhealthy  \n",
       "9                NaN      COPD      Unhealthy  "
      ]
     },
     "execution_count": 4,
     "metadata": {},
     "output_type": "execute_result"
    }
   ],
   "source": [
    "df =  df_no_diagnosis.join(diagnosis_df.set_index('Patient ID'), on = 'Patient ID', how = 'left')\n",
    "df.head(10)"
   ]
  },
  {
   "cell_type": "code",
   "execution_count": 5,
   "id": "b269e180-0274-4f1c-bb58-b75fa7fe9727",
   "metadata": {},
   "outputs": [
    {
     "data": {
      "text/html": [
       "<div>\n",
       "<style scoped>\n",
       "    .dataframe tbody tr th:only-of-type {\n",
       "        vertical-align: middle;\n",
       "    }\n",
       "\n",
       "    .dataframe tbody tr th {\n",
       "        vertical-align: top;\n",
       "    }\n",
       "\n",
       "    .dataframe thead th {\n",
       "        text-align: right;\n",
       "    }\n",
       "</style>\n",
       "<table border=\"1\" class=\"dataframe\">\n",
       "  <thead>\n",
       "    <tr style=\"text-align: right;\">\n",
       "      <th></th>\n",
       "      <th>Patient ID</th>\n",
       "      <th>Index</th>\n",
       "      <th>Chest location</th>\n",
       "      <th>Acquisition mode</th>\n",
       "      <th>Recording equipment</th>\n",
       "    </tr>\n",
       "  </thead>\n",
       "  <tbody>\n",
       "    <tr>\n",
       "      <th>0</th>\n",
       "      <td>177</td>\n",
       "      <td>2b4</td>\n",
       "      <td>Pr</td>\n",
       "      <td>mc</td>\n",
       "      <td>AKGC417L</td>\n",
       "    </tr>\n",
       "    <tr>\n",
       "      <th>0</th>\n",
       "      <td>134</td>\n",
       "      <td>2b3</td>\n",
       "      <td>Ar</td>\n",
       "      <td>mc</td>\n",
       "      <td>LittC2SE</td>\n",
       "    </tr>\n",
       "    <tr>\n",
       "      <th>0</th>\n",
       "      <td>140</td>\n",
       "      <td>2b3</td>\n",
       "      <td>Tc</td>\n",
       "      <td>mc</td>\n",
       "      <td>LittC2SE</td>\n",
       "    </tr>\n",
       "    <tr>\n",
       "      <th>0</th>\n",
       "      <td>166</td>\n",
       "      <td>1p1</td>\n",
       "      <td>Pl</td>\n",
       "      <td>sc</td>\n",
       "      <td>Meditron</td>\n",
       "    </tr>\n",
       "    <tr>\n",
       "      <th>0</th>\n",
       "      <td>133</td>\n",
       "      <td>3p2</td>\n",
       "      <td>Pr</td>\n",
       "      <td>mc</td>\n",
       "      <td>AKGC417L</td>\n",
       "    </tr>\n",
       "    <tr>\n",
       "      <th>0</th>\n",
       "      <td>186</td>\n",
       "      <td>2b2</td>\n",
       "      <td>Pl</td>\n",
       "      <td>mc</td>\n",
       "      <td>AKGC417L</td>\n",
       "    </tr>\n",
       "    <tr>\n",
       "      <th>0</th>\n",
       "      <td>130</td>\n",
       "      <td>1p2</td>\n",
       "      <td>Pr</td>\n",
       "      <td>mc</td>\n",
       "      <td>AKGC417L</td>\n",
       "    </tr>\n",
       "    <tr>\n",
       "      <th>0</th>\n",
       "      <td>151</td>\n",
       "      <td>3p2</td>\n",
       "      <td>Tc</td>\n",
       "      <td>mc</td>\n",
       "      <td>AKGC417L</td>\n",
       "    </tr>\n",
       "    <tr>\n",
       "      <th>0</th>\n",
       "      <td>187</td>\n",
       "      <td>1b1</td>\n",
       "      <td>Ll</td>\n",
       "      <td>sc</td>\n",
       "      <td>Meditron</td>\n",
       "    </tr>\n",
       "    <tr>\n",
       "      <th>0</th>\n",
       "      <td>130</td>\n",
       "      <td>1p2</td>\n",
       "      <td>Pl</td>\n",
       "      <td>mc</td>\n",
       "      <td>AKGC417L</td>\n",
       "    </tr>\n",
       "  </tbody>\n",
       "</table>\n",
       "</div>"
      ],
      "text/plain": [
       "  Patient ID Index Chest location Acquisition mode Recording equipment\n",
       "0        177   2b4             Pr               mc            AKGC417L\n",
       "0        134   2b3             Ar               mc            LittC2SE\n",
       "0        140   2b3             Tc               mc            LittC2SE\n",
       "0        166   1p1             Pl               sc            Meditron\n",
       "0        133   3p2             Pr               mc            AKGC417L\n",
       "0        186   2b2             Pl               mc            AKGC417L\n",
       "0        130   1p2             Pr               mc            AKGC417L\n",
       "0        151   3p2             Tc               mc            AKGC417L\n",
       "0        187   1b1             Ll               sc            Meditron\n",
       "0        130   1p2             Pl               mc            AKGC417L"
      ]
     },
     "execution_count": 5,
     "metadata": {},
     "output_type": "execute_result"
    }
   ],
   "source": [
    "import os as os\n",
    "\n",
    "root= (r'/home/archlinux/Drive-A/Lung_sound_Dtaset/Respiratory_Sound_Database/Respiratory_Sound_Database/audio_and_txt_files/')\n",
    "filenames=[s.split('.')[0] for s in os.listdir(path = root) if '.txt' in s]\n",
    "#getting data based on Tr,Al,Ar...\n",
    "def extract_annotation_data(file_name,root):\n",
    "    tokens = file_name.split('_')\n",
    "    recording_info = pd.DataFrame(data = [tokens], columns=['Patient ID', 'Index', 'Chest location','Acquisition mode','Recording equipment'])\n",
    "    recording_annotations = pd.read_csv(os.path.join(root, file_name + '.txt'), names=['Start', 'End', 'Crackles', 'Wheezes'], delimiter= '\\t')\n",
    "    return (recording_info, recording_annotations)\n",
    "\n",
    "i_list=[]\n",
    "rec_annotations=[]\n",
    "rec_annotations_dict={}\n",
    "\n",
    "for s in filenames:   \n",
    "    (i,a)=extract_annotation_data(s,root)\n",
    "    i_list.append(i)\n",
    "    rec_annotations.append(a)\n",
    "    rec_annotations_dict[s]=a\n",
    "    \n",
    "recording_info=pd.concat(i_list,axis=0)\n",
    "recording_info.head(10)"
   ]
  },
  {
   "cell_type": "code",
   "execution_count": 6,
   "id": "644fb13a-a824-48a7-a805-a368d7d66ade",
   "metadata": {},
   "outputs": [
    {
     "data": {
      "text/plain": [
       "920"
      ]
     },
     "execution_count": 6,
     "metadata": {},
     "output_type": "execute_result"
    }
   ],
   "source": [
    "len(rec_annotations_dict)"
   ]
  },
  {
   "cell_type": "code",
   "execution_count": 7,
   "id": "3c7eb577-4d4f-4222-b370-1e471798dd6e",
   "metadata": {},
   "outputs": [],
   "source": [
    "def slice_audio(audiodata,samplerate,start,end):\n",
    "     start = samplerate * start \n",
    "     end   = samplerate * end\n",
    "     return audiodata[start:end]"
   ]
  },
  {
   "cell_type": "code",
   "execution_count": 8,
   "id": "1f4f6af4-2c74-497b-b5de-862a8701389c",
   "metadata": {},
   "outputs": [],
   "source": [
    "class Diagnosis():\n",
    "    def __init__ (self, id, diagnosis, file_path):\n",
    "        self.id = id\n",
    "        self.diagnosis = diagnosis \n",
    "        self.file_path = file_path"
   ]
  },
  {
   "cell_type": "code",
   "execution_count": 9,
   "id": "ec684bb8-a77f-4291-9f85-f9cbaa63b978",
   "metadata": {},
   "outputs": [],
   "source": [
    "def get_wav_files():\n",
    "    audio_path = r'/home/archlinux/Drive-A/Lung_sound_Dtaset/Respiratory_Sound_Database/Respiratory_Sound_Database/audio_and_txt_files/'\n",
    "    files = [f for f in listdir(audio_path) if isfile(join(audio_path, f))]  \n",
    "            #Gets all files in directory\n",
    "    wav_files = [f for f in files if f.endswith('.wav')]  \n",
    "            #to get .wav files it searches under this thing\n",
    "    wav_files = sorted(wav_files)\n",
    "    return wav_files, audio_path"
   ]
  },
  {
   "cell_type": "code",
   "execution_count": 10,
   "id": "5f114376-c5ff-4c14-92e0-b4c85ae26636",
   "metadata": {},
   "outputs": [],
   "source": [
    "from os import listdir\n",
    "from os.path import isfile, join\n",
    "def diagnosis_data():\n",
    "    diagnosis = pd.read_csv(r'/home/archlinux/Drive-A/Lung_sound_Dtaset/Respiratory_Sound_Database/Respiratory_Sound_Database/patient_diagnosis.csv')\n",
    "    wav_files, audio_path = get_wav_files()\n",
    "    diag_dict = { 101 : \"URTI\"}  \n",
    "    diagnosis_list = []\n",
    "  \n",
    "    for index , row in diagnosis.iterrows():\n",
    "        diag_dict[row[0]] = row[1]     \n",
    "\n",
    "    c = 0\n",
    "    audio_data_list=[]\n",
    "    for f in wav_files:\n",
    "        diagnosis_list.append(Diagnosis(c, diag_dict[int(f[:3])], audio_path+f))\n",
    "        #wav,s_rate = librosa.load(audio_path+f)\n",
    "               \n",
    "        if diag_dict[int(f[:3])] == \"Healthy\":           \n",
    "            binary_classification_label=\"Healthy\"          \n",
    "        else:         \n",
    "            binary_classification_label=\"UnHealthy\"\n",
    "       \n",
    "        audio_data_list.append({'id':c,'diagnosis':diag_dict[int(f[:3])],'binary_diagnosis':binary_classification_label,'filename':f,'file_path':audio_path+f})\n",
    "        c+=1  \n",
    "\n",
    "    return diagnosis_list,pd.DataFrame(audio_data_list)"
   ]
  },
  {
   "cell_type": "code",
   "execution_count": 11,
   "id": "097fd531-959f-4833-9604-0b84673f2ff1",
   "metadata": {},
   "outputs": [],
   "source": [
    "dataset_obj,dataset_df=diagnosis_data()"
   ]
  },
  {
   "cell_type": "code",
   "execution_count": 12,
   "id": "31dc5ee5-158d-47e8-9456-ae230b18f20c",
   "metadata": {},
   "outputs": [
    {
     "name": "stdout",
     "output_type": "stream",
     "text": [
      "['URTI' 'Healthy' 'Asthma' 'COPD' 'LRTI' 'Bronchiectasis' 'Pneumonia'\n",
      " 'Bronchiolitis']\n"
     ]
    },
    {
     "name": "stderr",
     "output_type": "stream",
     "text": [
      "/home/archlinux/.local/lib/python3.9/site-packages/seaborn/_decorators.py:36: FutureWarning: Pass the following variable as a keyword arg: x. From version 0.12, the only valid positional argument will be `data`, and passing other arguments without an explicit keyword will result in an error or misinterpretation.\n",
      "  warnings.warn(\n"
     ]
    },
    {
     "data": {
      "text/plain": [
       "<AxesSubplot:xlabel='diagnosis', ylabel='count'>"
      ]
     },
     "execution_count": 12,
     "metadata": {},
     "output_type": "execute_result"
    },
    {
     "data": {
      "image/png": "[encoded data removed]",
      "text/plain": [
       "<Figure size 720x360 with 1 Axes>"
      ]
     },
     "metadata": {
      "needs_background": "light"
     },
     "output_type": "display_data"
    }
   ],
   "source": [
    "import matplotlib.pyplot as plt\n",
    "import seaborn as sns\n",
    "print(dataset_df['diagnosis'].unique())\n",
    "plt.figure(figsize=(10,5))\n",
    "sns.countplot(dataset_df['diagnosis'])"
   ]
  },
  {
   "cell_type": "code",
   "execution_count": 13,
   "id": "0284c1a8-81c7-4d76-b3e5-558a19f0860e",
   "metadata": {},
   "outputs": [],
   "source": [
    "dataset_df.to_csv(\"DIagnosis.csv\",index=False)\n",
    "processed_dataset_df = dataset_df[ (dataset_df['diagnosis'] !='Asthma') &  (dataset_df['diagnosis'] !='LRTI') ]"
   ]
  },
  {
   "cell_type": "code",
   "execution_count": 14,
   "id": "8623e0c5-d010-4ccd-b1fc-9c332a72f700",
   "metadata": {},
   "outputs": [
    {
     "name": "stderr",
     "output_type": "stream",
     "text": [
      "/home/archlinux/.local/lib/python3.9/site-packages/seaborn/_decorators.py:36: FutureWarning: Pass the following variable as a keyword arg: x. From version 0.12, the only valid positional argument will be `data`, and passing other arguments without an explicit keyword will result in an error or misinterpretation.\n",
      "  warnings.warn(\n"
     ]
    },
    {
     "data": {
      "text/plain": [
       "<AxesSubplot:xlabel='diagnosis', ylabel='count'>"
      ]
     },
     "execution_count": 14,
     "metadata": {},
     "output_type": "execute_result"
    },
    {
     "data": {
      "image/png": "[encoded data removed]",
      "text/plain": [
       "<Figure size 720x360 with 1 Axes>"
      ]
     },
     "metadata": {
      "needs_background": "light"
     },
     "output_type": "display_data"
    }
   ],
   "source": [
    "plt.figure(figsize=(10,5))\n",
    "sns.countplot(processed_dataset_df['diagnosis'])"
   ]
  },
  {
   "cell_type": "code",
   "execution_count": 15,
   "id": "263e9bd9-8755-4fe3-a2aa-d5069363ee4b",
   "metadata": {},
   "outputs": [
    {
     "data": {
      "text/html": [
       "<div>\n",
       "<style scoped>\n",
       "    .dataframe tbody tr th:only-of-type {\n",
       "        vertical-align: middle;\n",
       "    }\n",
       "\n",
       "    .dataframe tbody tr th {\n",
       "        vertical-align: top;\n",
       "    }\n",
       "\n",
       "    .dataframe thead th {\n",
       "        text-align: right;\n",
       "    }\n",
       "</style>\n",
       "<table border=\"1\" class=\"dataframe\">\n",
       "  <thead>\n",
       "    <tr style=\"text-align: right;\">\n",
       "      <th></th>\n",
       "      <th>id</th>\n",
       "      <th>diagnosis</th>\n",
       "      <th>binary_diagnosis</th>\n",
       "      <th>filename</th>\n",
       "      <th>file_path</th>\n",
       "    </tr>\n",
       "  </thead>\n",
       "  <tbody>\n",
       "    <tr>\n",
       "      <th>0</th>\n",
       "      <td>0</td>\n",
       "      <td>URTI</td>\n",
       "      <td>UnHealthy</td>\n",
       "      <td>101_1b1_Al_sc_Meditron.wav</td>\n",
       "      <td>/home/archlinux/Drive-A/Lung_sound_Dtaset/Resp...</td>\n",
       "    </tr>\n",
       "    <tr>\n",
       "      <th>1</th>\n",
       "      <td>1</td>\n",
       "      <td>URTI</td>\n",
       "      <td>UnHealthy</td>\n",
       "      <td>101_1b1_Pr_sc_Meditron.wav</td>\n",
       "      <td>/home/archlinux/Drive-A/Lung_sound_Dtaset/Resp...</td>\n",
       "    </tr>\n",
       "    <tr>\n",
       "      <th>2</th>\n",
       "      <td>2</td>\n",
       "      <td>Healthy</td>\n",
       "      <td>Healthy</td>\n",
       "      <td>102_1b1_Ar_sc_Meditron.wav</td>\n",
       "      <td>/home/archlinux/Drive-A/Lung_sound_Dtaset/Resp...</td>\n",
       "    </tr>\n",
       "    <tr>\n",
       "      <th>4</th>\n",
       "      <td>4</td>\n",
       "      <td>COPD</td>\n",
       "      <td>UnHealthy</td>\n",
       "      <td>104_1b1_Al_sc_Litt3200.wav</td>\n",
       "      <td>/home/archlinux/Drive-A/Lung_sound_Dtaset/Resp...</td>\n",
       "    </tr>\n",
       "    <tr>\n",
       "      <th>5</th>\n",
       "      <td>5</td>\n",
       "      <td>COPD</td>\n",
       "      <td>UnHealthy</td>\n",
       "      <td>104_1b1_Ar_sc_Litt3200.wav</td>\n",
       "      <td>/home/archlinux/Drive-A/Lung_sound_Dtaset/Resp...</td>\n",
       "    </tr>\n",
       "    <tr>\n",
       "      <th>6</th>\n",
       "      <td>6</td>\n",
       "      <td>COPD</td>\n",
       "      <td>UnHealthy</td>\n",
       "      <td>104_1b1_Ll_sc_Litt3200.wav</td>\n",
       "      <td>/home/archlinux/Drive-A/Lung_sound_Dtaset/Resp...</td>\n",
       "    </tr>\n",
       "    <tr>\n",
       "      <th>7</th>\n",
       "      <td>7</td>\n",
       "      <td>COPD</td>\n",
       "      <td>UnHealthy</td>\n",
       "      <td>104_1b1_Lr_sc_Litt3200.wav</td>\n",
       "      <td>/home/archlinux/Drive-A/Lung_sound_Dtaset/Resp...</td>\n",
       "    </tr>\n",
       "    <tr>\n",
       "      <th>8</th>\n",
       "      <td>8</td>\n",
       "      <td>COPD</td>\n",
       "      <td>UnHealthy</td>\n",
       "      <td>104_1b1_Pl_sc_Litt3200.wav</td>\n",
       "      <td>/home/archlinux/Drive-A/Lung_sound_Dtaset/Resp...</td>\n",
       "    </tr>\n",
       "    <tr>\n",
       "      <th>9</th>\n",
       "      <td>9</td>\n",
       "      <td>COPD</td>\n",
       "      <td>UnHealthy</td>\n",
       "      <td>104_1b1_Pr_sc_Litt3200.wav</td>\n",
       "      <td>/home/archlinux/Drive-A/Lung_sound_Dtaset/Resp...</td>\n",
       "    </tr>\n",
       "    <tr>\n",
       "      <th>10</th>\n",
       "      <td>10</td>\n",
       "      <td>URTI</td>\n",
       "      <td>UnHealthy</td>\n",
       "      <td>105_1b1_Tc_sc_Meditron.wav</td>\n",
       "      <td>/home/archlinux/Drive-A/Lung_sound_Dtaset/Resp...</td>\n",
       "    </tr>\n",
       "  </tbody>\n",
       "</table>\n",
       "</div>"
      ],
      "text/plain": [
       "    id diagnosis binary_diagnosis                    filename  \\\n",
       "0    0      URTI        UnHealthy  101_1b1_Al_sc_Meditron.wav   \n",
       "1    1      URTI        UnHealthy  101_1b1_Pr_sc_Meditron.wav   \n",
       "2    2   Healthy          Healthy  102_1b1_Ar_sc_Meditron.wav   \n",
       "4    4      COPD        UnHealthy  104_1b1_Al_sc_Litt3200.wav   \n",
       "5    5      COPD        UnHealthy  104_1b1_Ar_sc_Litt3200.wav   \n",
       "6    6      COPD        UnHealthy  104_1b1_Ll_sc_Litt3200.wav   \n",
       "7    7      COPD        UnHealthy  104_1b1_Lr_sc_Litt3200.wav   \n",
       "8    8      COPD        UnHealthy  104_1b1_Pl_sc_Litt3200.wav   \n",
       "9    9      COPD        UnHealthy  104_1b1_Pr_sc_Litt3200.wav   \n",
       "10  10      URTI        UnHealthy  105_1b1_Tc_sc_Meditron.wav   \n",
       "\n",
       "                                            file_path  \n",
       "0   /home/archlinux/Drive-A/Lung_sound_Dtaset/Resp...  \n",
       "1   /home/archlinux/Drive-A/Lung_sound_Dtaset/Resp...  \n",
       "2   /home/archlinux/Drive-A/Lung_sound_Dtaset/Resp...  \n",
       "4   /home/archlinux/Drive-A/Lung_sound_Dtaset/Resp...  \n",
       "5   /home/archlinux/Drive-A/Lung_sound_Dtaset/Resp...  \n",
       "6   /home/archlinux/Drive-A/Lung_sound_Dtaset/Resp...  \n",
       "7   /home/archlinux/Drive-A/Lung_sound_Dtaset/Resp...  \n",
       "8   /home/archlinux/Drive-A/Lung_sound_Dtaset/Resp...  \n",
       "9   /home/archlinux/Drive-A/Lung_sound_Dtaset/Resp...  \n",
       "10  /home/archlinux/Drive-A/Lung_sound_Dtaset/Resp...  "
      ]
     },
     "execution_count": 15,
     "metadata": {},
     "output_type": "execute_result"
    }
   ],
   "source": [
    "processed_dataset_df.head(10)"
   ]
  },
  {
   "cell_type": "code",
   "execution_count": 16,
   "id": "aed86dc9-582f-4c3e-93f4-2b92f4907875",
   "metadata": {},
   "outputs": [],
   "source": [
    "import librosa\n",
    "audio_file, samplerate = librosa.core.load(processed_dataset_df.file_path[0])"
   ]
  },
  {
   "cell_type": "code",
   "execution_count": 17,
   "id": "4c2a596f-8731-4ae9-a4f3-3409d1a81e65",
   "metadata": {},
   "outputs": [],
   "source": [
    "# Preprocessing parameters\n",
    "\n",
    "sr = 44100 # Sampling rate\n",
    "duration = 10\n",
    "hop_length = 347\n",
    "fmin = 20\n",
    "\n",
    "fmax = sr // 2\n",
    "n_mels = 128\n",
    "\n",
    "n_fft = n_mels * 20\n",
    "samples = sr * duration"
   ]
  },
  {
   "cell_type": "code",
   "execution_count": 18,
   "id": "de45f0ae-cbd6-46f9-a087-3a9a9329fb77",
   "metadata": {},
   "outputs": [],
   "source": [
    "def downsample_mono(path, sr):    \n",
    "    obj = wavio.read(path)\n",
    "    wav = obj.data.astype(np.float32, order='F')\n",
    "    rate = obj.rate\n",
    "    \n",
    "    try:\n",
    "        channel = wav.shape[1]\n",
    "        if channel == 2:\n",
    "            wav = to_mono(wav.T)\n",
    "        elif channel == 1:\n",
    "            wav = to_mono(wav.reshape(-1))\n",
    "    except IndexError:\n",
    "        wav = to_mono(wav.reshape(-1))\n",
    "        pass\n",
    "    except Exception as exc:\n",
    "        raise exc\n",
    "    wav = resample(wav, rate, sr)\n",
    "    wav = wav.astype(np.int16)\n",
    "    return sr, wav\n",
    "\n",
    "def read_audio(path):\n",
    "    y, sr = librosa.core.load(path, sr=16000,duration=duration)\n",
    "\n",
    "    return y\n",
    "\n",
    "def audio_to_melspectrogram(audio,s_r,n_mel_val):\n",
    "    #to convert to melspectrogram after audio is read in\n",
    "    spectrogram = librosa.feature.melspectrogram(audio, \n",
    "                                                 sr = s_r,\n",
    "                                                 n_mels = n_mel_val,\n",
    "                                                 hop_length = hop_length,\n",
    "                                                 n_fft = n_mel_val*20,\n",
    "                                                 fmin = 20,\n",
    "                                                 fmax = s_r//2)\n",
    "    #dont really get the librosa thing, just get the feature.melspectrogram thing  \n",
    "    \n",
    "    return librosa.power_to_db(spectrogram).astype(np.float32)\n",
    "def read_as_melspectrogram(path):\n",
    "    #to convert audio into a melspectrogram so we can use machine learning\n",
    "    mels = audio_to_melspectrogram(read_audio(path))\n",
    "    return mels\n",
    "\n",
    "def audio_to_melspectrogram2(audio,s_r,n_mel_val):\n",
    "    #to convert to melspectrogram after audio is read by the librosa thing\n",
    "    spectrogram = librosa.feature.melspectrogram(audio, \n",
    "                                                 sr=s_r,\n",
    "                                                 n_mels=n_mel_val,\n",
    "                                                 hop_length=hop_length,\n",
    "                                                 n_fft=n_mel_val*20,\n",
    "                                                 fmin=20,\n",
    "                                                 fmax=s_r//2)\n",
    "    \n",
    "    return librosa.power_to_db(spectrogram).astype(np.float32)\n",
    "\n",
    "def read_as_melspectrogram2(path):\n",
    "    #to convert audio into a melspectrogram so we can use ml\n",
    "    mels = audio_to_melspectrogram2(read_audio(path))\n",
    "    return mels\n",
    "\n",
    "def convert_wav_to_image(df):\n",
    "    \n",
    "    X_mel_spec = []\n",
    "    X_mel_spec2 = []\n",
    "    for _,row in tqdm(df.iterrows()):\n",
    "        x_mel1 = read_as_melspectrogram(row.file_path)\n",
    "        x_mel2 = read_as_melspectrogram2(row.file_path)\n",
    "        X_mel_spec.append(x_mel1.transpose(),)\n",
    "        X_mel_spec2.append(x_mel2.transpose())      \n",
    "    return X_mel_spec,X_mel_spec2\n",
    "\n",
    "def convert_wav_to_mfcc(df):\n",
    "    X_mfcc = []   \n",
    "    for _,row in tqdm(df.iterrows()):\n",
    "        x_mfcc =generate_mfcc_feature(row.file_path)\n",
    "        X_mfcc.append(x_mfcc.transpose())\n",
    "        \n",
    "    return X_mfcc\n",
    "\n",
    "def normalize(img):\n",
    "    #to normalize an array (subtract mean and divide by sd-- sigma)\n",
    "    eps = 0.001\n",
    "    if np.std(img) != 0:\n",
    "        img = (img - np.mean(img)) / np.std(img)\n",
    "    else:\n",
    "        img = (img - np.mean(img)) / eps\n",
    "    return img\n",
    "\n",
    "def normalize_dataset(X):\n",
    "    #Normalizes list of arrays (subtract mean and divide by sd)\n",
    "    normalized_dataset = []\n",
    "    for img in X:\n",
    "        normalized = normalize(img)\n",
    "        normalized_dataset.append(normalized)\n",
    "    return normalized_dataset"
   ]
  },
  {
   "cell_type": "code",
   "execution_count": 19,
   "id": "e6a69aa5-a2c8-432f-971e-d1c4863aa87a",
   "metadata": {},
   "outputs": [],
   "source": [
    "import numpy as np\n",
    "from numpy.lib.stride_tricks import as_strided\n",
    "from typing import Tuple\n",
    "\n",
    "def get_audio(file_path: str) -> Tuple[np.ndarray, int]:\n",
    "    audio_data, sr = librosa.core.load(file_path)\n",
    "    length = len(audio_data) / sr\n",
    "\n",
    "    return audio_data, sr, length\n",
    "\n",
    "#all the class stuff here\n",
    "class AudioMovingWindowPreProcessor():\n",
    "    def __init__(self) -> None:\n",
    "        pass\n",
    "\n",
    "    def get_audio_windows(self, audio: np.ndarray, sr: int, length: int, window_size: int, stride: int) -> np.ndarray:\n",
    "        \n",
    "        #to generate audio frames using  sliding window with stride -memory safe\n",
    "        \n",
    "        no_frames = int((length - window_size) / stride) + 1\n",
    "        window_size = window_size * sr\n",
    "        stride = stride * sr\n",
    "        audio_frames = []\n",
    "        for index in range(no_frames):\n",
    "            if (stride * index + window_size) < len(audio):\n",
    "                frame = audio[stride * index:(stride * index + window_size)]\n",
    "                audio_frames.append(frame)\n",
    "\n",
    "            else:\n",
    "                break\n",
    "\n",
    "        return np.array(audio_frames)\n",
    "\n",
    "    def get_audio_windows_numpy_vectorized(self, audio: np.ndarray, sr: int, length: int, window_size: int,\n",
    "                                           stride: int) -> np.ndarray:\n",
    "        \n",
    "        #to generate audio frames using sliding window with stride Numpy - non-memory safe\n",
    "        \n",
    "        no_frames = int((length - window_size) / stride) + 1\n",
    "        audio_frames = as_strided(audio, shape=(no_frames, window_size * sr), strides=(stride * sr, 1))\n",
    "        audio_frames = audio_frames[:-2]\n",
    "        return audio_frames"
   ]
  },
  {
   "cell_type": "code",
   "execution_count": 20,
   "id": "7cb1cc6c-f075-4e77-8c6d-5007c4ce536b",
   "metadata": {},
   "outputs": [],
   "source": [
    "from scipy import signal\n",
    "from scipy import stats\n",
    "import IPython.display as ipd\n",
    "import librosa.display\n",
    "\n",
    "#for wavelet ( denoising )\n",
    "\n",
    "class Wavelet_Filter:\n",
    "\n",
    "    def wavelet_filter(self, filteredSignal, samplerate):\n",
    "        x_den = denoise_wavelet(filteredSignal, method='VisuShrink', mode='soft', wavelet_levels=5, wavelet='coif2',\n",
    "                                rescale_sigma='True')\n",
    "\n",
    "        return x_den, samplerate\n",
    "\n",
    "#to pass through high_pass\n",
    "class Filter_BW_HP:\n",
    "\n",
    "    def __init__(self, high_pass):\n",
    "        self.high_pass = high_pass\n",
    "\n",
    "    def BW_highpass(self, newdata, samplerate):\n",
    "        b, a = signal.butter(4, 100 / (22050 / 2), btype='highpass')\n",
    "\n",
    "        filteredSignal = signal.lfilter(b, a, newdata)\n",
    "\n",
    "        return filteredSignal, samplerate\n",
    "\n",
    "#to pass through low_pass\n",
    "class FIlter_BW_LP:\n",
    "\n",
    "    def __init__(self, low_pass):\n",
    "        self.low_pass = low_pass\n",
    "\n",
    "    def BW_lowpass(self, filteredSignal, samplerate):\n",
    "        c, d = signal.butter(4, 2000 / (22050 / 2), btype='lowpass')\n",
    "        newFilteredSignal = signal.lfilter(c, d, filteredSignal)\n",
    "\n",
    "        return newFilteredSignal, samplerate\n",
    "\n",
    "\n",
    "class FilterPipeline():\n",
    "\n",
    "    def __init__(self, low_pass, high_pass):\n",
    "\n",
    "        self.low_pass = low_pass\n",
    "        self.high_pass = high_pass\n",
    "\n",
    "        self.lp_filter = FIlter_BW_LP(low_pass)\n",
    "        self.hp_filter = Filter_BW_HP(high_pass)\n",
    "        self.wavelet = Wavelet_Filter()\n",
    "\n",
    "    def filters(self, audio_signal, sample_rate):\n",
    "        filtered_output, sr = self.lp_filter.BW_lowpass(audio_signal, sample_rate)\n",
    "        filtered_output, sr = self.hp_filter.BW_highpass(filtered_output, sr)\n",
    "        filtered_output, sr = self.wavelet.wavelet_filter(filtered_output, sr)\n",
    "\n",
    "        return filtered_output, sr"
   ]
  },
  {
   "cell_type": "code",
   "execution_count": 21,
   "id": "56376f65-0e64-42aa-9d01-69def6a1f213",
   "metadata": {},
   "outputs": [
    {
     "name": "stderr",
     "output_type": "stream",
     "text": [
      "2022-01-12 22:26:03.448407: W tensorflow/stream_executor/platform/default/dso_loader.cc:64] Could not load dynamic library 'libcudart.so.11.0'; dlerror: libcudart.so.11.0: cannot open shared object file: No such file or directory\n",
      "2022-01-12 22:26:03.448487: I tensorflow/stream_executor/cuda/cudart_stub.cc:29] Ignore above cudart dlerror if you do not have a GPU set up on your machine.\n"
     ]
    }
   ],
   "source": [
    "import math\n",
    "from tensorflow.keras.preprocessing.sequence import pad_sequences\n",
    "\n",
    "# Filter Configurations\n",
    "LOW_PASS_FREQUENCY = 100\n",
    "HIGH_PASS_FREQUENCY = 2000\n",
    "\n",
    "# Mel-Spectral Configurations\n",
    "HOG_LENGTH = 347\n",
    "\n",
    "# sizes (in sec)\n",
    "MOVING_WINDOW_SIZE = 5\n",
    "AUDIO_STRIDE_SIZE = 5\n",
    "\n",
    "class AudioPreProcessor(AudioMovingWindowPreProcessor, FilterPipeline):\n",
    "    def __init__(self):\n",
    "        AudioMovingWindowPreProcessor.__init__(self)\n",
    "        FilterPipeline.__init__(self, LOW_PASS_FREQUENCY, HIGH_PASS_FREQUENCY)\n",
    "        super().__init__()\n",
    "\n",
    "    def pre_process_audio(self, audio_path: str, sample_rate: int) -> np.ndarray:\n",
    "        audio_data, sample_rate, length = get_audio(audio_path, sample_rate)\n",
    "        filtered_audio, sample_rate = self.filters(audio_data, sample_rate)\n",
    "        audio_frames = self.get_audio_windows(filtered_audio, sample_rate, length, MOVING_WINDOW_SIZE,\n",
    "                                              AUDIO_STRIDE_SIZE)\n",
    "\n",
    "        return audio_frames\n",
    "\n",
    "    def audio_to_mel_spectrogram(self, audio_data: np.ndarray, s_r: int, n_mel_val: int) -> np.ndarray:\n",
    "        spectrogram = librosa.feature.melspectrogram(audio_data,\n",
    "                                                     sr=s_r,\n",
    "                                                     n_mels=n_mel_val,\n",
    "                                                     hop_length=HOG_LENGTH,\n",
    "                                                     n_fft=n_mel_val * 20,\n",
    "                                                     fmin=20,\n",
    "                                                     fmax=s_r // 2)\n",
    "\n",
    "        return librosa.power_to_db(spectrogram).astype(np.float32)"
   ]
  },
  {
   "cell_type": "code",
   "execution_count": 22,
   "id": "88d2d4a1-49b9-4927-8bcf-2bab1fa0e200",
   "metadata": {},
   "outputs": [
    {
     "name": "stderr",
     "output_type": "stream",
     "text": [
      "917it [11:09,  1.37it/s]\n"
     ]
    }
   ],
   "source": [
    "# sizes (in sec)\n",
    "MOVING_WINDOW_SIZE = 5\n",
    "AUDIO_STRIDE_SIZE = 4\n",
    "SAMPLE_RATE=16000\n",
    "\n",
    "from tqdm import tqdm\n",
    "# !mkdir breathcycles\n",
    "\n",
    "X_mel_spec = []\n",
    "X_mel_spec2 = []\n",
    "Y_labels = []\n",
    "\n",
    "durations_spec=[]\n",
    "for  indx, df_row in tqdm(processed_dataset_df.iterrows() ):  \n",
    "     head, audio_file = os.path.split(df_row.file_path)\n",
    "     audio_file_name = audio_file.split('.wav')[0]   \n",
    "     diagnosis_type =df_row.diagnosis\n",
    "    \n",
    "     breathing_cycles_df = rec_annotations_dict.get(audio_file_name)\n",
    "\n",
    "     audio_data, sample_rate,length = get_audio(df_row.file_path)      \n",
    "     no_frames = int((length - MOVING_WINDOW_SIZE) / AUDIO_STRIDE_SIZE) + 1\n",
    "     window_size = MOVING_WINDOW_SIZE * sample_rate\n",
    "     stride = AUDIO_STRIDE_SIZE * sample_rate\n",
    "\n",
    "     audio_frames = []\n",
    "\n",
    "     for index in range(no_frames):\n",
    "            if (stride * index + window_size) < len(audio_data):              \n",
    "               frame = audio_data[stride * index:(stride * index + window_size)]\n",
    "               x_mel1 = audio_to_melspectrogram(frame,s_r=sample_rate,n_mel_val=128)\n",
    "               x_mel2 = audio_to_melspectrogram2(frame,s_r=sample_rate,n_mel_val=64)\n",
    "               X_mel_spec.append(x_mel1.transpose(),)\n",
    "               X_mel_spec2.append(x_mel2.transpose())\n",
    "            \n",
    "               Y_labels.append(str(diagnosis_type))\n",
    "\n",
    "            else:\n",
    "                break\n",
    "#has output,, shows [time, time/iteration]"
   ]
  },
  {
   "cell_type": "code",
   "execution_count": 23,
   "id": "59b83b68-12f8-40cd-b342-6ec2b0abed48",
   "metadata": {},
   "outputs": [
    {
     "name": "stdout",
     "output_type": "stream",
     "text": [
      "Average of the required list = 318.0\n"
     ]
    }
   ],
   "source": [
    "X_mel1 = np.array(X_mel_spec)\n",
    "X_mel2 = np.array(X_mel_spec2)\n",
    "\n",
    "#X = normalize_dataset(X)\n",
    "X_array_mel1=np.array(X_mel1)\n",
    "X_array_mel2=np.array(X_mel2)\n",
    "\n",
    "val_spae=[]\n",
    "for x in X_mel1:\n",
    "    #print(x.shape[0])-------\n",
    "    val_spae.append(x.shape[0])\n",
    "\n",
    "def Average(lst):\n",
    "    return sum(lst) / len(lst) \n",
    "# Driver Code\n",
    "\n",
    "average = Average(val_spae)\n",
    "# to print average of the list\n",
    "print(\"Average of the required list =\", round(average, 2))"
   ]
  },
  {
   "cell_type": "code",
   "execution_count": 24,
   "id": "5388803d-36c7-46ac-ba8f-2fa5aa3cfd25",
   "metadata": {},
   "outputs": [
    {
     "name": "stderr",
     "output_type": "stream",
     "text": [
      "/home/archlinux/.local/lib/python3.9/site-packages/seaborn/distributions.py:2619: FutureWarning: `distplot` is a deprecated function and will be removed in a future version. Please adapt your code to use either `displot` (a figure-level function with similar flexibility) or `histplot` (an axes-level function for histograms).\n",
      "  warnings.warn(msg, FutureWarning)\n",
      "/home/archlinux/.local/lib/python3.9/site-packages/seaborn/distributions.py:316: UserWarning: Dataset has 0 variance; skipping density estimate. Pass `warn_singular=False` to disable this warning.\n",
      "  warnings.warn(msg, UserWarning)\n"
     ]
    },
    {
     "data": {
      "text/plain": [
       "<AxesSubplot:ylabel='Density'>"
      ]
     },
     "execution_count": 24,
     "metadata": {},
     "output_type": "execute_result"
    },
    {
     "data": {
      "image/png": "[encoded data removed]",
      "text/plain": [
       "<Figure size 432x288 with 1 Axes>"
      ]
     },
     "metadata": {
      "needs_background": "light"
     },
     "output_type": "display_data"
    }
   ],
   "source": [
    "sns.distplot(val_spae)"
   ]
  },
  {
   "cell_type": "code",
   "execution_count": 25,
   "id": "de3646ae-b26f-4129-9d6a-9d3ed8dbd115",
   "metadata": {},
   "outputs": [],
   "source": [
    "max_audio_lenght = max([len(i) for i in X_array_mel1])\n",
    "max_audio_lenght2 = max([len(i) for i in X_array_mel2])\n",
    "from tensorflow.keras.preprocessing.sequence import pad_sequences\n",
    "\n",
    "#raw data processing-padding\n",
    "X_array_mel1=pad_sequences(X_array_mel1, padding=\"post\", dtype='float32')\n",
    "X_array_mel2=pad_sequences(X_array_mel2, padding=\"post\", dtype='float32')"
   ]
  },
  {
   "cell_type": "code",
   "execution_count": 26,
   "id": "0d68d3d0-0541-44f8-8845-89859229ab9a",
   "metadata": {},
   "outputs": [
    {
     "data": {
      "text/plain": [
       "(318, 128)"
      ]
     },
     "execution_count": 26,
     "metadata": {},
     "output_type": "execute_result"
    }
   ],
   "source": [
    "X_array_mel1[0].shape"
   ]
  },
  {
   "cell_type": "code",
   "execution_count": 27,
   "id": "c0122168-0285-48ee-a2a6-15800020471e",
   "metadata": {},
   "outputs": [
    {
     "data": {
      "image/png": "[encoded data removed]",
      "text/plain": [
       "<Figure size 1080x720 with 1 Axes>"
      ]
     },
     "metadata": {
      "needs_background": "light"
     },
     "output_type": "display_data"
    }
   ],
   "source": [
    "# Visualize an melspectogram example\n",
    "plt.figure(figsize=(15,10))\n",
    "plt.title('Visualization of audio file', weight='bold')\n",
    "plt.imshow(X_array_mel1[20]);"
   ]
  },
  {
   "cell_type": "code",
   "execution_count": 28,
   "id": "400a4c5e-9638-4cfb-9ef9-edea7ae06500",
   "metadata": {},
   "outputs": [
    {
     "data": {
      "text/plain": [
       "4035"
      ]
     },
     "execution_count": 28,
     "metadata": {},
     "output_type": "execute_result"
    }
   ],
   "source": [
    "X_array_mel1.shape[0]"
   ]
  },
  {
   "cell_type": "code",
   "execution_count": 29,
   "id": "354bfa3d-9dc4-4c2b-a98c-507bd48d2242",
   "metadata": {},
   "outputs": [],
   "source": [
    "shape_lenght=X_array_mel1.shape[0]\n",
    "new_Xtrain = np.empty((shape_lenght,2), dtype=np.object)\n",
    "for idx in range(shape_lenght):    \n",
    "    new_Xtrain[idx,]=([X_array_mel1[idx],X_array_mel2[idx]])"
   ]
  },
  {
   "cell_type": "code",
   "execution_count": 30,
   "id": "8a35cf88-3497-4da4-ad9a-15611238f75c",
   "metadata": {},
   "outputs": [],
   "source": [
    "from tensorflow.keras.utils import to_categorical\n",
    "from sklearn import preprocessing\n",
    "le = preprocessing.LabelEncoder()\n",
    "diagnosis_classes= list(set(Y_labels))\n",
    "le.fit(diagnosis_classes)\n",
    "y = le.transform(Y_labels)\n",
    "Y=to_categorical(y, num_classes=len(diagnosis_classes))\n",
    "np.save('diagnosis_classes.npy', le.classes_)"
   ]
  },
  {
   "cell_type": "code",
   "execution_count": 31,
   "id": "e52d1b87-e9aa-47e3-9e1d-f5a2c52e799d",
   "metadata": {},
   "outputs": [],
   "source": [
    "audio_time_span=new_Xtrain[0][0].shape[0]\n",
    "no_mel_sp_features =new_Xtrain[0][0].shape[1]\n",
    "NO_CLASSES=6 # Binary classification -> 2"
   ]
  },
  {
   "cell_type": "code",
   "execution_count": 32,
   "id": "b6826e7d-13bf-4c61-b5a6-1cb0290f22e9",
   "metadata": {},
   "outputs": [
    {
     "name": "stderr",
     "output_type": "stream",
     "text": [
      "2022-01-12 22:38:09.386745: W tensorflow/stream_executor/platform/default/dso_loader.cc:64] Could not load dynamic library 'libcuda.so.1'; dlerror: libcuda.so.1: cannot open shared object file: No such file or directory\n",
      "2022-01-12 22:38:09.386796: W tensorflow/stream_executor/cuda/cuda_driver.cc:269] failed call to cuInit: UNKNOWN ERROR (303)\n",
      "2022-01-12 22:38:09.386822: I tensorflow/stream_executor/cuda/cuda_diagnostics.cc:156] kernel driver does not appear to be running on this host (ArchMachine): /proc/driver/nvidia/version does not exist\n",
      "2022-01-12 22:38:09.387123: I tensorflow/core/platform/cpu_feature_guard.cc:142] This TensorFlow binary is optimized with oneAPI Deep Neural Network Library (oneDNN) to use the following CPU instructions in performance-critical operations:  AVX2 FMA\n",
      "To enable them in other operations, rebuild TensorFlow with the appropriate compiler flags.\n"
     ]
    },
    {
     "name": "stdout",
     "output_type": "stream",
     "text": [
      "Model: \"dual_convolutional_long_short_term_memory\"\n",
      "__________________________________________________________________________________________________\n",
      "Layer (type)                    Output Shape         Param #     Connected to                     \n",
      "==================================================================================================\n",
      "mel-spectral-input (InputLayer) [(None, 318, 128)]   0                                            \n",
      "__________________________________________________________________________________________________\n",
      "mel-spectral2-input (InputLayer [(None, 318, 64)]    0                                            \n",
      "__________________________________________________________________________________________________\n",
      "batch_norm (LayerNormalization) (None, 318, 128)     256         mel-spectral-input[0][0]         \n",
      "__________________________________________________________________________________________________\n",
      "batch_norm_mel-spectral2 (Layer (None, 318, 64)      128         mel-spectral2-input[0][0]        \n",
      "__________________________________________________________________________________________________\n",
      "reshape (TimeDistributed)       (None, 318, 128)     0           batch_norm[0][0]                 \n",
      "__________________________________________________________________________________________________\n",
      "reshape_mel-spectral2 (TimeDist (None, 318, 64)      0           batch_norm_mel-spectral2[0][0]   \n",
      "__________________________________________________________________________________________________\n",
      "td_dense_tanh (TimeDistributed) (None, 318, 64)      8256        reshape[0][0]                    \n",
      "__________________________________________________________________________________________________\n",
      "td_dense_tanh_mel-spectral2 (Ti (None, 318, 64)      4160        reshape_mel-spectral2[0][0]      \n",
      "__________________________________________________________________________________________________\n",
      "LSTM_1-128 (Bidirectional)      (None, 318, 256)     197632      td_dense_tanh[0][0]              \n",
      "__________________________________________________________________________________________________\n",
      "mel-2-LSTM_1-128 (Bidirectional (None, 318, 256)     197632      td_dense_tanh_mel-spectral2[0][0]\n",
      "__________________________________________________________________________________________________\n",
      "LSTM_1-256 (Bidirectional)      (None, 318, 512)     1050624     LSTM_1-128[0][0]                 \n",
      "__________________________________________________________________________________________________\n",
      "mel-2-LSTM_1-256 (Bidirectional (None, 318, 512)     1050624     mel-2-LSTM_1-128[0][0]           \n",
      "__________________________________________________________________________________________________\n",
      "LSTM_1-64 (Bidirectional)       (None, 318, 128)     295424      LSTM_1-256[0][0]                 \n",
      "__________________________________________________________________________________________________\n",
      "mel-2-LSTM_1-64 (Bidirectional) (None, 318, 128)     295424      mel-2-LSTM_1-256[0][0]           \n",
      "__________________________________________________________________________________________________\n",
      "skip_connection (Concatenate)   (None, 318, 192)     0           td_dense_tanh[0][0]              \n",
      "                                                                 LSTM_1-64[0][0]                  \n",
      "__________________________________________________________________________________________________\n",
      "skip_connection_mel-spectral2 ( (None, 318, 192)     0           td_dense_tanh_mel-spectral2[0][0]\n",
      "                                                                 mel-2-LSTM_1-64[0][0]            \n",
      "__________________________________________________________________________________________________\n",
      "dense_1_relu (Dense)            (None, 318, 64)      12352       skip_connection[0][0]            \n",
      "__________________________________________________________________________________________________\n",
      "dense_1_relu_mel-spectral2 (Den (None, 318, 64)      12352       skip_connection_mel-spectral2[0][\n",
      "__________________________________________________________________________________________________\n",
      "max_pool_1d (MaxPooling1D)      (None, 159, 64)      0           dense_1_relu[0][0]               \n",
      "__________________________________________________________________________________________________\n",
      "max_pool_1d_mfcc (MaxPooling1D) (None, 159, 64)      0           dense_1_relu_mel-spectral2[0][0] \n",
      "__________________________________________________________________________________________________\n",
      "dense_2_relu (Dense)            (None, 159, 32)      2080        max_pool_1d[0][0]                \n",
      "__________________________________________________________________________________________________\n",
      "dense_2_relu_mel-spectral2 (Den (None, 159, 32)      2080        max_pool_1d_mfcc[0][0]           \n",
      "__________________________________________________________________________________________________\n",
      "flatten (Flatten)               (None, 5088)         0           dense_2_relu[0][0]               \n",
      "__________________________________________________________________________________________________\n",
      "flatten_mel-spectral2 (Flatten) (None, 5088)         0           dense_2_relu_mel-spectral2[0][0] \n",
      "__________________________________________________________________________________________________\n",
      "dropout (Dropout)               (None, 5088)         0           flatten[0][0]                    \n",
      "__________________________________________________________________________________________________\n",
      "dropout_mel-spectral2 (Dropout) (None, 5088)         0           flatten_mel-spectral2[0][0]      \n",
      "__________________________________________________________________________________________________\n",
      "dense_3_relu (Dense)            (None, 32)           162848      dropout[0][0]                    \n",
      "__________________________________________________________________________________________________\n",
      "dense_3_relu_mel-spectral2 (Den (None, 32)           162848      dropout_mel-spectral2[0][0]      \n",
      "__________________________________________________________________________________________________\n",
      "mel-mfcc_connection (Concatenat (None, 64)           0           dense_3_relu[0][0]               \n",
      "                                                                 dense_3_relu_mel-spectral2[0][0] \n",
      "__________________________________________________________________________________________________\n",
      "softmax (Dense)                 (None, 6)            390         mel-mfcc_connection[0][0]        \n",
      "==================================================================================================\n",
      "Total params: 3,455,110\n",
      "Trainable params: 3,455,110\n",
      "Non-trainable params: 0\n",
      "__________________________________________________________________________________________________\n"
     ]
    }
   ],
   "source": [
    "import tensorflow as tf\n",
    "from tensorflow import keras\n",
    "from tensorflow.keras import layers\n",
    "from tensorflow.keras import models\n",
    "from tensorflow.keras.models import Sequential\n",
    "from keras.layers import Input, LSTM, Dense, TimeDistributed, Activation, BatchNormalization, Dropout, Bidirectional\n",
    "from tensorflow.keras.layers import Conv1D, Conv2D, MaxPooling2D, MaxPooling1D, Dense, Flatten, Dropout, SeparableConv1D\n",
    "from keras.layers.wrappers import TimeDistributed\n",
    "from tensorflow.python.keras import regularizers\n",
    "from keras.regularizers import l2\n",
    "from keras.layers import LayerNormalization\n",
    "\n",
    "def LSTM_Model_Dual(N_CLASSES,max_audio_length,no_features):\n",
    "    \n",
    "    i1 = Input(shape=(max_audio_length,no_features), dtype=\"float32\",name='mel-spectral-input')\n",
    "    x1 = tf.keras.layers.LayerNormalization(axis=2, name='batch_norm')(i1)\n",
    "    x1 = TimeDistributed(layers.Reshape((-1,)), name='reshape')(x1)\n",
    "    s1 = TimeDistributed(layers.Dense(64, activation='tanh'),\n",
    "                        name='td_dense_tanh')(x1)  \n",
    "    #masking\n",
    "    x1 = layers.Bidirectional(layers.LSTM(128, return_sequences=True),name='LSTM_1-128')(s1)\n",
    "    x1 = layers.Bidirectional(layers.LSTM(256, return_sequences=True),name='LSTM_1-256')(x1)\n",
    "    x1 = layers.Bidirectional(layers.LSTM(64, return_sequences=True),name='LSTM_1-64')(x1)\n",
    "    #x1 = layers.Bidirectional(layers.LSTM(64),name='LSTM_2-64')(x1)\n",
    "    \n",
    "    x1 = layers.concatenate([s1, x1], axis=2, name='skip_connection')\n",
    "    x1 = layers.Dense(64, activation='relu', name='dense_1_relu')(x1)\n",
    "    x1 = layers.MaxPooling1D(name='max_pool_1d')(x1)\n",
    "    x1 = layers.Dense(32, activation='relu', name='dense_2_relu')(x1)\n",
    "    x1 = layers.Flatten(name='flatten')(x1)\n",
    "    x1 = layers.Dropout(rate=0.2, name='dropout')(x1)\n",
    "    x1 = layers.Dense(32, activation='relu',\n",
    "                         activity_regularizer=l2(0.001),\n",
    "                         name='dense_3_relu')(x1)\n",
    "        \n",
    "    i2=Input(shape=(max_audio_length,64), dtype=\"float32\",name='mel-spectral2-input')\n",
    "    x2 = LayerNormalization(axis=2, name='batch_norm_mel-spectral2')(i2)\n",
    "    x2 = TimeDistributed(layers.Reshape((-1,)), name='reshape_mel-spectral2')(x2)\n",
    "    s2 = TimeDistributed(layers.Dense(64, activation='tanh'),\n",
    "                        name='td_dense_tanh_mel-spectral2')(x2)\n",
    "    \n",
    "    #masking\n",
    "    x2 = layers.Bidirectional(layers.LSTM(128, return_sequences=True),name='mel-2-LSTM_1-128')(s2)\n",
    "    x2 = layers.Bidirectional(layers.LSTM(256, return_sequences=True),name='mel-2-LSTM_1-256')(x2)\n",
    "    x2 = layers.Bidirectional(layers.LSTM(64, return_sequences=True),name='mel-2-LSTM_1-64')(x2)\n",
    "    \n",
    "    x2 = layers.concatenate([s2, x2], axis=2, name='skip_connection_mel-spectral2')\n",
    "    x2 = layers.Dense(64, activation='relu', name='dense_1_relu_mel-spectral2')(x2)\n",
    "    x2 = layers.MaxPooling1D(name='max_pool_1d_mfcc')(x2)\n",
    "    x2 = layers.Dense(32, activation='relu', name='dense_2_relu_mel-spectral2')(x2)\n",
    "    x2 = layers.Flatten(name='flatten_mel-spectral2')(x2)\n",
    "    x2 = layers.Dropout(rate=0.2, name='dropout_mel-spectral2')(x2)\n",
    "    x2 = layers.Dense(32, activation='relu',\n",
    "                         activity_regularizer=l2(0.001),\n",
    "                         name='dense_3_relu_mel-spectral2')(x2)\n",
    "       \n",
    "    x = layers.concatenate([x1, x2], name='mel-mfcc_connection')   \n",
    "    o = layers.Dense(N_CLASSES, activation='softmax', name='softmax')(x)\n",
    "    model = keras.Model(inputs=[i1,i2], outputs=o, name='dual_convolutional_long_short_term_memory')\n",
    "    model.compile(optimizer='adam',\n",
    "                  loss='categorical_crossentropy',\n",
    "                  metrics=['accuracy'])\n",
    "\n",
    "    return model\n",
    "\n",
    "model = LSTM_Model_Dual(NO_CLASSES,audio_time_span,no_mel_sp_features)\n",
    "model.summary()"
   ]
  },
  {
   "cell_type": "code",
   "execution_count": 33,
   "id": "927b7a8c-5783-43c5-bb76-4eadad0ba791",
   "metadata": {},
   "outputs": [
    {
     "name": "stdout",
     "output_type": "stream",
     "text": [
      "Model: \"long_short_term_memory\"\n",
      "__________________________________________________________________________________________________\n",
      "Layer (type)                    Output Shape         Param #     Connected to                     \n",
      "==================================================================================================\n",
      "input_1 (InputLayer)            [(None, 318, 128)]   0                                            \n",
      "__________________________________________________________________________________________________\n",
      "batch_norm (LayerNormalization) (None, 318, 128)     256         input_1[0][0]                    \n",
      "__________________________________________________________________________________________________\n",
      "reshape (TimeDistributed)       (None, 318, 128)     0           batch_norm[0][0]                 \n",
      "__________________________________________________________________________________________________\n",
      "td_dense_tanh (TimeDistributed) (None, 318, 64)      8256        reshape[0][0]                    \n",
      "__________________________________________________________________________________________________\n",
      "bidirectional_lstm (Bidirection (None, 318, 64)      24832       td_dense_tanh[0][0]              \n",
      "__________________________________________________________________________________________________\n",
      "skip_connection (Concatenate)   (None, 318, 128)     0           td_dense_tanh[0][0]              \n",
      "                                                                 bidirectional_lstm[0][0]         \n",
      "__________________________________________________________________________________________________\n",
      "dense_1_relu (Dense)            (None, 318, 64)      8256        skip_connection[0][0]            \n",
      "__________________________________________________________________________________________________\n",
      "max_pool_1d (MaxPooling1D)      (None, 159, 64)      0           dense_1_relu[0][0]               \n",
      "__________________________________________________________________________________________________\n",
      "dense_2_relu (Dense)            (None, 159, 32)      2080        max_pool_1d[0][0]                \n",
      "__________________________________________________________________________________________________\n",
      "flatten (Flatten)               (None, 5088)         0           dense_2_relu[0][0]               \n",
      "__________________________________________________________________________________________________\n",
      "dropout (Dropout)               (None, 5088)         0           flatten[0][0]                    \n",
      "__________________________________________________________________________________________________\n",
      "dense_3_relu (Dense)            (None, 32)           162848      dropout[0][0]                    \n",
      "__________________________________________________________________________________________________\n",
      "softmax (Dense)                 (None, 6)            198         dense_3_relu[0][0]               \n",
      "==================================================================================================\n",
      "Total params: 206,726\n",
      "Trainable params: 206,726\n",
      "Non-trainable params: 0\n",
      "__________________________________________________________________________________________________\n"
     ]
    }
   ],
   "source": [
    "def LSTM_model_V2(N_CLASSES,max_audio_length,no_features):\n",
    "    \n",
    "    i=Input(shape=(max_audio_length,no_features), dtype=\"float32\")\n",
    "    x = LayerNormalization(axis=2, name='batch_norm')(i)\n",
    "    x = TimeDistributed(layers.Reshape((-1,)), name='reshape')(x)\n",
    "    s = TimeDistributed(layers.Dense(64, activation='tanh'),\n",
    "                        name='td_dense_tanh')(x)\n",
    "    #masking\n",
    "    x = layers.Bidirectional(layers.LSTM(32, return_sequences=True),\n",
    "                             name='bidirectional_lstm')(s)\n",
    "    x = layers.concatenate([s, x], axis=2, name='skip_connection')\n",
    "    x = layers.Dense(64, activation='relu', name='dense_1_relu')(x)\n",
    "    x = layers.MaxPooling1D(name='max_pool_1d')(x)\n",
    "    x = layers.Dense(32, activation='relu', name='dense_2_relu')(x)\n",
    "    x = layers.Flatten(name='flatten')(x)\n",
    "    x = layers.Dropout(rate=0.2, name='dropout')(x)\n",
    "    x = layers.Dense(32, activation='relu',\n",
    "                         activity_regularizer=l2(0.001),\n",
    "                         name='dense_3_relu')(x)\n",
    "    o = layers.Dense(N_CLASSES, activation='softmax', name='softmax')(x)\n",
    "    model = keras.Model(inputs=i, outputs=o, name='long_short_term_memory')\n",
    "    model.compile(optimizer='adam',\n",
    "                  loss='categorical_crossentropy',\n",
    "                  metrics=['accuracy'])\n",
    "\n",
    "    return model\n",
    "\n",
    "model = LSTM_model_V2(NO_CLASSES,audio_time_span,no_mel_sp_features)\n",
    "model.summary()"
   ]
  },
  {
   "cell_type": "code",
   "execution_count": 34,
   "id": "936b26c5-bd59-4c83-b279-e4c62a11c34e",
   "metadata": {},
   "outputs": [],
   "source": [
    "# initialize tqdm callback with default parameters\n",
    "import tensorflow_addons as tfa\n",
    "tqdm_callback = tfa.callbacks.TQDMProgressBar()"
   ]
  },
  {
   "cell_type": "code",
   "execution_count": null,
   "id": "755bc182-73c2-446f-9a6f-9df2b37cf331",
   "metadata": {},
   "outputs": [
    {
     "name": "stderr",
     "output_type": "stream",
     "text": [
      "2022-01-12 22:38:50.426510: W tensorflow/core/framework/cpu_allocator_impl.cc:80] Allocation of 350380032 exceeds 10% of free system memory.\n",
      "2022-01-12 22:38:50.573362: W tensorflow/core/framework/cpu_allocator_impl.cc:80] Allocation of 175190016 exceeds 10% of free system memory.\n"
     ]
    },
    {
     "data": {
      "application/vnd.jupyter.widget-view+json": {
       "model_id": "5d2badccefd44823835640728d3b8b44",
       "version_major": 2,
       "version_minor": 0
      },
      "text/plain": [
       "Training:   0%|                                                                                 0/15 ETA: ?s, …"
      ]
     },
     "metadata": {},
     "output_type": "display_data"
    },
    {
     "name": "stdout",
     "output_type": "stream",
     "text": [
      "Epoch 1/15\n"
     ]
    },
    {
     "name": "stderr",
     "output_type": "stream",
     "text": [
      "2022-01-12 22:38:50.784939: I tensorflow/compiler/mlir/mlir_graph_optimization_pass.cc:185] None of the MLIR Optimization Passes are enabled (registered 2)\n"
     ]
    },
    {
     "data": {
      "application/vnd.jupyter.widget-view+json": {
       "model_id": "7d32795fb75f44e98b3e129da419957c",
       "version_major": 2,
       "version_minor": 0
      },
      "text/plain": [
       "0/34                                                                                                          …"
      ]
     },
     "metadata": {},
     "output_type": "display_data"
    },
    {
     "name": "stderr",
     "output_type": "stream",
     "text": [
      "2022-01-12 22:43:48.980757: W tensorflow/python/util/util.cc:348] Sets are not currently considered sequences, but this may change in the future, so consider avoiding using them.\n",
      "WARNING:absl:Function `_wrapped_model` contains input name(s) mel-spectral-input, mel-spectral2-input with unsupported characters which will be renamed to mel_spectral_input, mel_spectral2_input in the SavedModel.\n",
      "WARNING:absl:Found untraced functions such as lstm_cell_22_layer_call_fn, lstm_cell_22_layer_call_and_return_conditional_losses, lstm_cell_23_layer_call_fn, lstm_cell_23_layer_call_and_return_conditional_losses, lstm_cell_31_layer_call_fn while saving (showing 5 of 60). These functions will not be directly callable after loading.\n"
     ]
    },
    {
     "name": "stdout",
     "output_type": "stream",
     "text": [
      "INFO:tensorflow:Assets written to: training_lstm_v2/assets\n"
     ]
    },
    {
     "name": "stderr",
     "output_type": "stream",
     "text": [
      "INFO:tensorflow:Assets written to: training_lstm_v2/assets\n"
     ]
    },
    {
     "name": "stdout",
     "output_type": "stream",
     "text": [
      "Epoch 2/15\n"
     ]
    },
    {
     "data": {
      "application/vnd.jupyter.widget-view+json": {
       "model_id": "ca4d9ac9f50948919e8caa566705e193",
       "version_major": 2,
       "version_minor": 0
      },
      "text/plain": [
       "0/34                                                                                                          …"
      ]
     },
     "metadata": {},
     "output_type": "display_data"
    },
    {
     "name": "stderr",
     "output_type": "stream",
     "text": [
      "WARNING:absl:Function `_wrapped_model` contains input name(s) mel-spectral-input, mel-spectral2-input with unsupported characters which will be renamed to mel_spectral_input, mel_spectral2_input in the SavedModel.\n",
      "WARNING:absl:Found untraced functions such as lstm_cell_22_layer_call_fn, lstm_cell_22_layer_call_and_return_conditional_losses, lstm_cell_23_layer_call_fn, lstm_cell_23_layer_call_and_return_conditional_losses, lstm_cell_31_layer_call_fn while saving (showing 5 of 60). These functions will not be directly callable after loading.\n"
     ]
    },
    {
     "name": "stdout",
     "output_type": "stream",
     "text": [
      "INFO:tensorflow:Assets written to: training_lstm_v2/assets\n"
     ]
    },
    {
     "name": "stderr",
     "output_type": "stream",
     "text": [
      "INFO:tensorflow:Assets written to: training_lstm_v2/assets\n"
     ]
    },
    {
     "name": "stdout",
     "output_type": "stream",
     "text": [
      "Epoch 3/15\n"
     ]
    },
    {
     "data": {
      "application/vnd.jupyter.widget-view+json": {
       "model_id": "566470f3f2be4bffa8fe4ffe054d006d",
       "version_major": 2,
       "version_minor": 0
      },
      "text/plain": [
       "0/34                                                                                                          …"
      ]
     },
     "metadata": {},
     "output_type": "display_data"
    },
    {
     "name": "stderr",
     "output_type": "stream",
     "text": [
      "WARNING:absl:Function `_wrapped_model` contains input name(s) mel-spectral-input, mel-spectral2-input with unsupported characters which will be renamed to mel_spectral_input, mel_spectral2_input in the SavedModel.\n",
      "WARNING:absl:Found untraced functions such as lstm_cell_22_layer_call_fn, lstm_cell_22_layer_call_and_return_conditional_losses, lstm_cell_23_layer_call_fn, lstm_cell_23_layer_call_and_return_conditional_losses, lstm_cell_31_layer_call_fn while saving (showing 5 of 60). These functions will not be directly callable after loading.\n"
     ]
    },
    {
     "name": "stdout",
     "output_type": "stream",
     "text": [
      "INFO:tensorflow:Assets written to: training_lstm_v2/assets\n"
     ]
    },
    {
     "name": "stderr",
     "output_type": "stream",
     "text": [
      "INFO:tensorflow:Assets written to: training_lstm_v2/assets\n"
     ]
    },
    {
     "name": "stdout",
     "output_type": "stream",
     "text": [
      "Epoch 4/15\n"
     ]
    },
    {
     "data": {
      "application/vnd.jupyter.widget-view+json": {
       "model_id": "c7590711f8bd4f6f9bb5c91a75151dd7",
       "version_major": 2,
       "version_minor": 0
      },
      "text/plain": [
       "0/34                                                                                                          …"
      ]
     },
     "metadata": {},
     "output_type": "display_data"
    },
    {
     "name": "stderr",
     "output_type": "stream",
     "text": [
      "WARNING:absl:Function `_wrapped_model` contains input name(s) mel-spectral-input, mel-spectral2-input with unsupported characters which will be renamed to mel_spectral_input, mel_spectral2_input in the SavedModel.\n",
      "WARNING:absl:Found untraced functions such as lstm_cell_22_layer_call_fn, lstm_cell_22_layer_call_and_return_conditional_losses, lstm_cell_23_layer_call_fn, lstm_cell_23_layer_call_and_return_conditional_losses, lstm_cell_31_layer_call_fn while saving (showing 5 of 60). These functions will not be directly callable after loading.\n"
     ]
    },
    {
     "name": "stdout",
     "output_type": "stream",
     "text": [
      "INFO:tensorflow:Assets written to: training_lstm_v2/assets\n"
     ]
    },
    {
     "name": "stderr",
     "output_type": "stream",
     "text": [
      "INFO:tensorflow:Assets written to: training_lstm_v2/assets\n"
     ]
    },
    {
     "name": "stdout",
     "output_type": "stream",
     "text": [
      "Epoch 5/15\n"
     ]
    },
    {
     "data": {
      "application/vnd.jupyter.widget-view+json": {
       "model_id": "ffc5c680c705410fa09c080b8d9f6ee3",
       "version_major": 2,
       "version_minor": 0
      },
      "text/plain": [
       "0/34                                                                                                          …"
      ]
     },
     "metadata": {},
     "output_type": "display_data"
    },
    {
     "name": "stdout",
     "output_type": "stream",
     "text": [
      "Epoch 6/15\n"
     ]
    },
    {
     "data": {
      "application/vnd.jupyter.widget-view+json": {
       "model_id": "fc4949d0582c4b1180167b1710477678",
       "version_major": 2,
       "version_minor": 0
      },
      "text/plain": [
       "0/34                                                                                                          …"
      ]
     },
     "metadata": {},
     "output_type": "display_data"
    },
    {
     "name": "stdout",
     "output_type": "stream",
     "text": [
      "Epoch 7/15\n"
     ]
    },
    {
     "data": {
      "application/vnd.jupyter.widget-view+json": {
       "model_id": "6ee3ed23292948eeb3363462240ae18b",
       "version_major": 2,
       "version_minor": 0
      },
      "text/plain": [
       "0/34                                                                                                          …"
      ]
     },
     "metadata": {},
     "output_type": "display_data"
    },
    {
     "name": "stdout",
     "output_type": "stream",
     "text": [
      "Epoch 8/15\n"
     ]
    },
    {
     "data": {
      "application/vnd.jupyter.widget-view+json": {
       "model_id": "34e784fe96fb4df5a10c054a7550a233",
       "version_major": 2,
       "version_minor": 0
      },
      "text/plain": [
       "0/34                                                                                                          …"
      ]
     },
     "metadata": {},
     "output_type": "display_data"
    },
    {
     "name": "stdout",
     "output_type": "stream",
     "text": [
      "Epoch 9/15\n"
     ]
    },
    {
     "data": {
      "application/vnd.jupyter.widget-view+json": {
       "model_id": "b8c170119ef64d0d962418d33cbe5c7f",
       "version_major": 2,
       "version_minor": 0
      },
      "text/plain": [
       "0/34                                                                                                          …"
      ]
     },
     "metadata": {},
     "output_type": "display_data"
    },
    {
     "name": "stdout",
     "output_type": "stream",
     "text": [
      "Epoch 10/15\n"
     ]
    },
    {
     "data": {
      "application/vnd.jupyter.widget-view+json": {
       "model_id": "1c929514e9174cf490abf323cae62f71",
       "version_major": 2,
       "version_minor": 0
      },
      "text/plain": [
       "0/34                                                                                                          …"
      ]
     },
     "metadata": {},
     "output_type": "display_data"
    },
    {
     "name": "stdout",
     "output_type": "stream",
     "text": [
      "Epoch 11/15\n"
     ]
    },
    {
     "data": {
      "application/vnd.jupyter.widget-view+json": {
       "model_id": "4c5c510a496c474789e8cd6a333b1cd8",
       "version_major": 2,
       "version_minor": 0
      },
      "text/plain": [
       "0/34                                                                                                          …"
      ]
     },
     "metadata": {},
     "output_type": "display_data"
    },
    {
     "name": "stderr",
     "output_type": "stream",
     "text": [
      "WARNING:absl:Function `_wrapped_model` contains input name(s) mel-spectral-input, mel-spectral2-input with unsupported characters which will be renamed to mel_spectral_input, mel_spectral2_input in the SavedModel.\n",
      "WARNING:absl:Found untraced functions such as lstm_cell_22_layer_call_fn, lstm_cell_22_layer_call_and_return_conditional_losses, lstm_cell_23_layer_call_fn, lstm_cell_23_layer_call_and_return_conditional_losses, lstm_cell_31_layer_call_fn while saving (showing 5 of 60). These functions will not be directly callable after loading.\n"
     ]
    },
    {
     "name": "stdout",
     "output_type": "stream",
     "text": [
      "INFO:tensorflow:Assets written to: training_lstm_v2/assets\n"
     ]
    },
    {
     "name": "stderr",
     "output_type": "stream",
     "text": [
      "INFO:tensorflow:Assets written to: training_lstm_v2/assets\n"
     ]
    },
    {
     "name": "stdout",
     "output_type": "stream",
     "text": [
      "Epoch 12/15\n"
     ]
    },
    {
     "data": {
      "application/vnd.jupyter.widget-view+json": {
       "model_id": "1a73c1257036451f957c2bc762d7c9b1",
       "version_major": 2,
       "version_minor": 0
      },
      "text/plain": [
       "0/34                                                                                                          …"
      ]
     },
     "metadata": {},
     "output_type": "display_data"
    },
    {
     "name": "stdout",
     "output_type": "stream",
     "text": [
      "Epoch 13/15\n"
     ]
    },
    {
     "data": {
      "application/vnd.jupyter.widget-view+json": {
       "model_id": "2f49d2f0bac3473e9a5711490cd317b9",
       "version_major": 2,
       "version_minor": 0
      },
      "text/plain": [
       "0/34                                                                                                          …"
      ]
     },
     "metadata": {},
     "output_type": "display_data"
    },
    {
     "name": "stdout",
     "output_type": "stream",
     "text": [
      "Epoch 14/15\n"
     ]
    },
    {
     "data": {
      "application/vnd.jupyter.widget-view+json": {
       "model_id": "724c6db0853840098688dd40899c9c4e",
       "version_major": 2,
       "version_minor": 0
      },
      "text/plain": [
       "0/34                                                                                                          …"
      ]
     },
     "metadata": {},
     "output_type": "display_data"
    },
    {
     "name": "stderr",
     "output_type": "stream",
     "text": [
      "WARNING:absl:Function `_wrapped_model` contains input name(s) mel-spectral-input, mel-spectral2-input with unsupported characters which will be renamed to mel_spectral_input, mel_spectral2_input in the SavedModel.\n",
      "WARNING:absl:Found untraced functions such as lstm_cell_22_layer_call_fn, lstm_cell_22_layer_call_and_return_conditional_losses, lstm_cell_23_layer_call_fn, lstm_cell_23_layer_call_and_return_conditional_losses, lstm_cell_31_layer_call_fn while saving (showing 5 of 60). These functions will not be directly callable after loading.\n"
     ]
    },
    {
     "name": "stdout",
     "output_type": "stream",
     "text": [
      "INFO:tensorflow:Assets written to: training_lstm_v2/assets\n"
     ]
    },
    {
     "name": "stderr",
     "output_type": "stream",
     "text": [
      "INFO:tensorflow:Assets written to: training_lstm_v2/assets\n"
     ]
    },
    {
     "name": "stdout",
     "output_type": "stream",
     "text": [
      "Epoch 15/15\n"
     ]
    },
    {
     "data": {
      "application/vnd.jupyter.widget-view+json": {
       "model_id": "5d5adc8cb39f4feca171036bbce8336b",
       "version_major": 2,
       "version_minor": 0
      },
      "text/plain": [
       "0/34                                                                                                          …"
      ]
     },
     "metadata": {},
     "output_type": "display_data"
    },
    {
     "name": "stderr",
     "output_type": "stream",
     "text": [
      "2022-01-13 00:04:04.044734: W tensorflow/core/framework/cpu_allocator_impl.cc:80] Allocation of 218987520 exceeds 10% of free system memory.\n"
     ]
    },
    {
     "name": "stdout",
     "output_type": "stream",
     "text": [
      "Score for fold 1: loss of 0.27421241998672485; accuracy of 92.11896061897278%\n"
     ]
    },
    {
     "name": "stderr",
     "output_type": "stream",
     "text": [
      "2022-01-13 00:05:41.052560: W tensorflow/core/framework/cpu_allocator_impl.cc:80] Allocation of 350380032 exceeds 10% of free system memory.\n",
      "2022-01-13 00:05:44.896261: W tensorflow/core/framework/cpu_allocator_impl.cc:80] Allocation of 175190016 exceeds 10% of free system memory.\n"
     ]
    },
    {
     "data": {
      "application/vnd.jupyter.widget-view+json": {
       "model_id": "24f0d0435a8745bfb3ab14a40aa63889",
       "version_major": 2,
       "version_minor": 0
      },
      "text/plain": [
       "Training:   0%|                                                                                 0/15 ETA: ?s, …"
      ]
     },
     "metadata": {},
     "output_type": "display_data"
    },
    {
     "name": "stdout",
     "output_type": "stream",
     "text": [
      "Epoch 1/15\n"
     ]
    },
    {
     "data": {
      "application/vnd.jupyter.widget-view+json": {
       "model_id": "f0237bd38ff54bd0ab9af9a5b7bacc8a",
       "version_major": 2,
       "version_minor": 0
      },
      "text/plain": [
       "0/34                                                                                                          …"
      ]
     },
     "metadata": {},
     "output_type": "display_data"
    },
    {
     "name": "stdout",
     "output_type": "stream",
     "text": [
      "Epoch 2/15\n"
     ]
    },
    {
     "data": {
      "application/vnd.jupyter.widget-view+json": {
       "model_id": "f3b3409a9bb5403992cb2cb77b62dae0",
       "version_major": 2,
       "version_minor": 0
      },
      "text/plain": [
       "0/34                                                                                                          …"
      ]
     },
     "metadata": {},
     "output_type": "display_data"
    },
    {
     "name": "stdout",
     "output_type": "stream",
     "text": [
      "Epoch 3/15\n"
     ]
    },
    {
     "data": {
      "application/vnd.jupyter.widget-view+json": {
       "model_id": "04c5d08efd9d477982f1e9c8edef7245",
       "version_major": 2,
       "version_minor": 0
      },
      "text/plain": [
       "0/34                                                                                                          …"
      ]
     },
     "metadata": {},
     "output_type": "display_data"
    },
    {
     "name": "stdout",
     "output_type": "stream",
     "text": [
      "Epoch 4/15\n"
     ]
    },
    {
     "data": {
      "application/vnd.jupyter.widget-view+json": {
       "model_id": "b3f956b7524244c08ca3788fd4ada9d3",
       "version_major": 2,
       "version_minor": 0
      },
      "text/plain": [
       "0/34                                                                                                          …"
      ]
     },
     "metadata": {},
     "output_type": "display_data"
    },
    {
     "name": "stdout",
     "output_type": "stream",
     "text": [
      "Epoch 5/15\n"
     ]
    },
    {
     "data": {
      "application/vnd.jupyter.widget-view+json": {
       "model_id": "d22daaf3e63344e6bd3de87395816c43",
       "version_major": 2,
       "version_minor": 0
      },
      "text/plain": [
       "0/34                                                                                                          …"
      ]
     },
     "metadata": {},
     "output_type": "display_data"
    },
    {
     "name": "stdout",
     "output_type": "stream",
     "text": [
      "Epoch 6/15\n"
     ]
    },
    {
     "data": {
      "application/vnd.jupyter.widget-view+json": {
       "model_id": "05111448139d4f1aa99c7a72acc71166",
       "version_major": 2,
       "version_minor": 0
      },
      "text/plain": [
       "0/34                                                                                                          …"
      ]
     },
     "metadata": {},
     "output_type": "display_data"
    },
    {
     "name": "stdout",
     "output_type": "stream",
     "text": [
      "Epoch 7/15\n"
     ]
    },
    {
     "data": {
      "application/vnd.jupyter.widget-view+json": {
       "model_id": "6bc72eb3dd3947e882ddf814c2c734e4",
       "version_major": 2,
       "version_minor": 0
      },
      "text/plain": [
       "0/34                                                                                                          …"
      ]
     },
     "metadata": {},
     "output_type": "display_data"
    },
    {
     "name": "stdout",
     "output_type": "stream",
     "text": [
      "Epoch 8/15\n"
     ]
    },
    {
     "data": {
      "application/vnd.jupyter.widget-view+json": {
       "model_id": "8b1b7398783d4e338e11e8843ee46942",
       "version_major": 2,
       "version_minor": 0
      },
      "text/plain": [
       "0/34                                                                                                          …"
      ]
     },
     "metadata": {},
     "output_type": "display_data"
    },
    {
     "name": "stdout",
     "output_type": "stream",
     "text": [
      "Epoch 9/15\n"
     ]
    },
    {
     "data": {
      "application/vnd.jupyter.widget-view+json": {
       "model_id": "61fb2735b6a24ab4904940a5121b39e7",
       "version_major": 2,
       "version_minor": 0
      },
      "text/plain": [
       "0/34                                                                                                          …"
      ]
     },
     "metadata": {},
     "output_type": "display_data"
    },
    {
     "name": "stdout",
     "output_type": "stream",
     "text": [
      "Epoch 10/15\n"
     ]
    },
    {
     "data": {
      "application/vnd.jupyter.widget-view+json": {
       "model_id": "2a74d18ff90f4b188f244ca208275755",
       "version_major": 2,
       "version_minor": 0
      },
      "text/plain": [
       "0/34                                                                                                          …"
      ]
     },
     "metadata": {},
     "output_type": "display_data"
    },
    {
     "name": "stdout",
     "output_type": "stream",
     "text": [
      "Epoch 11/15\n"
     ]
    },
    {
     "data": {
      "application/vnd.jupyter.widget-view+json": {
       "model_id": "7d7f8e6a1782462c9af4f2e73c7fe293",
       "version_major": 2,
       "version_minor": 0
      },
      "text/plain": [
       "0/34                                                                                                          …"
      ]
     },
     "metadata": {},
     "output_type": "display_data"
    },
    {
     "name": "stdout",
     "output_type": "stream",
     "text": [
      "Epoch 12/15\n"
     ]
    },
    {
     "data": {
      "application/vnd.jupyter.widget-view+json": {
       "model_id": "052e5955236440fca86e220484da616f",
       "version_major": 2,
       "version_minor": 0
      },
      "text/plain": [
       "0/34                                                                                                          …"
      ]
     },
     "metadata": {},
     "output_type": "display_data"
    },
    {
     "name": "stdout",
     "output_type": "stream",
     "text": [
      "Epoch 13/15\n"
     ]
    },
    {
     "data": {
      "application/vnd.jupyter.widget-view+json": {
       "model_id": "6f0369c19dda4c4d983ed5b4cdaf8df3",
       "version_major": 2,
       "version_minor": 0
      },
      "text/plain": [
       "0/34                                                                                                          …"
      ]
     },
     "metadata": {},
     "output_type": "display_data"
    },
    {
     "name": "stdout",
     "output_type": "stream",
     "text": [
      "Epoch 14/15\n"
     ]
    },
    {
     "data": {
      "application/vnd.jupyter.widget-view+json": {
       "model_id": "b0b1d4260d34493faca61bb9c8d7d702",
       "version_major": 2,
       "version_minor": 0
      },
      "text/plain": [
       "0/34                                                                                                          …"
      ]
     },
     "metadata": {},
     "output_type": "display_data"
    },
    {
     "name": "stdout",
     "output_type": "stream",
     "text": [
      "Epoch 15/15\n"
     ]
    },
    {
     "data": {
      "application/vnd.jupyter.widget-view+json": {
       "model_id": "759eef737ff449759f4a12bbafee1ba4",
       "version_major": 2,
       "version_minor": 0
      },
      "text/plain": [
       "0/34                                                                                                          …"
      ]
     },
     "metadata": {},
     "output_type": "display_data"
    },
    {
     "name": "stdout",
     "output_type": "stream",
     "text": [
      "Score for fold 1: loss of 0.12626796960830688; accuracy of 97.32341766357422%\n"
     ]
    },
    {
     "data": {
      "application/vnd.jupyter.widget-view+json": {
       "model_id": "0489a3ef8ca74a0ba82a2b4b435fea99",
       "version_major": 2,
       "version_minor": 0
      },
      "text/plain": [
       "Training:   0%|                                                                                 0/15 ETA: ?s, …"
      ]
     },
     "metadata": {},
     "output_type": "display_data"
    },
    {
     "name": "stdout",
     "output_type": "stream",
     "text": [
      "Epoch 1/15\n"
     ]
    },
    {
     "data": {
      "application/vnd.jupyter.widget-view+json": {
       "model_id": "35c966d0985244c78bffb8e591afd03a",
       "version_major": 2,
       "version_minor": 0
      },
      "text/plain": [
       "0/34                                                                                                          …"
      ]
     },
     "metadata": {},
     "output_type": "display_data"
    }
   ],
   "source": [
    "from sklearn.model_selection import KFold,StratifiedKFold\n",
    "num_folds = 3\n",
    "\n",
    "# Define per-fold score containers\n",
    "acc_per_fold = []\n",
    "loss_per_fold = []\n",
    "\n",
    "# Merge inputs and targets\n",
    "#inputs = np.concatenate((X_train, X_val), axis=0)\n",
    "#targets = np.concatenate((Y_train, Y_val), axis=0)\n",
    "\n",
    "# Define the K-fold Cross Validator\n",
    "Strftkfold = StratifiedKFold(n_splits=num_folds, shuffle=True)\n",
    "\n",
    "# K-fold Cross Validation model evaluation\n",
    "fold_no = 1\n",
    "k_fold_history=[]\n",
    "\n",
    "#Custom callback\n",
    "checkpoint_filepath = 'training_lstm_v2/cp.ckpt'\n",
    "checkpoint_filepath = os.path.dirname(checkpoint_filepath)\n",
    "model_checkpoint_callback = keras.callbacks.ModelCheckpoint(\n",
    "    filepath=checkpoint_filepath,\n",
    "    monitor='val_accuracy',\n",
    "    verbose=0,\n",
    "    mode='max',\n",
    "    save_best_only=True)\n",
    "\n",
    "progressbar = keras.callbacks.ProgbarLogger(count_mode=\"samples\", stateful_metrics=['acc','val_loss'])\n",
    "\n",
    "#Keras callback\n",
    "keras_callbacks = [model_checkpoint_callback,tqdm_callback]\n",
    "\n",
    "#Setup Model\n",
    "#model = build_lstm_model()\n",
    "model = LSTM_Model_Dual(NO_CLASSES,audio_time_span,no_mel_sp_features)\n",
    "class_labels = np.argmax(Y, axis=1)\n",
    "\n",
    "# Loop through the indices the split() method returns\n",
    "for index, (train_indices, val_indices) in enumerate(Strftkfold.split(new_Xtrain, class_labels)):\n",
    "\n",
    "    # Generate batches from indices\n",
    "    xtrain, xval = new_Xtrain[train_indices], new_Xtrain[val_indices]\n",
    "    ytrain, yval = Y[train_indices], Y[val_indices]\n",
    "        \n",
    "    x_mel1= np.empty( ( int(xtrain.shape[0]) ,int(xtrain[0][0].shape[0]) , int(xtrain[0][0].shape[1]) ), dtype=np.float32)\n",
    "    x_mel2= np.empty( ( int(xtrain.shape[0]) ,int(xtrain[0][1].shape[0]) , int(xtrain[0][1].shape[1]) ), dtype=np.float32)\n",
    "    \n",
    "    x_mel1_val= np.empty( ( int(xval.shape[0]) ,int(xval[0][0].shape[0]) , int(xval[0][0].shape[1]) ), dtype=np.float32)\n",
    "    x_mel2_val= np.empty( ( int(xval.shape[0]) ,int(xval[0][1].shape[0]) , int(xval[0][1].shape[1]) ), dtype=np.float32)\n",
    "    \n",
    "    # Extracting 2 features into Numpy array- Training set\n",
    "    for i,x in enumerate(xtrain):        \n",
    "        x_mel1[i,]=x[0]\n",
    "        x_mel2[i,]=x[1]\n",
    "\n",
    "   # Extracting 2 features into Numpy array validation set\n",
    "    for i,x in enumerate(xval):       \n",
    "        x_mel1_val[i,]=x[0]\n",
    "        x_mel2_val[i,]=x[1]\n",
    "       \n",
    "    #create a batch\n",
    "    #train the model \n",
    "    history = model.fit({'mel-spectral-input':x_mel1,'mel-spectral2-input':x_mel2}, ytrain,batch_size=64,epochs=15,verbose=0,callbacks=keras_callbacks,validation_split=0.2)\n",
    "    k_fold_history.append(history)\n",
    "    \n",
    "    # Generate generalization metrics\n",
    "    scores = model.evaluate({'mel-spectral-input':x_mel1_val,'mel-spectral2-input':x_mel2_val}, yval, verbose=0)\n",
    "    print(f'Score for fold {fold_no}: {model.metrics_names[0]} of {scores[0]}; {model.metrics_names[1]} of {scores[1]*100}%' )\n",
    "    acc_per_fold.append(scores[1] * 100)\n",
    "    loss_per_fold.append(scores[0])"
   ]
  },
  {
   "cell_type": "code",
   "execution_count": 35,
   "id": "997f1637-e756-4988-b2e9-c761d37cd320",
   "metadata": {},
   "outputs": [
    {
     "name": "stdout",
     "output_type": "stream",
     "text": [
      "------------------------------------------------------------------------\n",
      "Validation Score per fold\n",
      "------------------------------------------------------------------------\n",
      "> Fold 1 - Loss: 0.35715141892433167 - Accuracy: 90.63196778297424%\n",
      "------------------------------------------------------------------------\n",
      "> Fold 2 - Loss: 0.16877052187919617 - Accuracy: 95.61338424682617%\n",
      "------------------------------------------------------------------------\n",
      "> Fold 3 - Loss: 0.1390315443277359 - Accuracy: 96.65427803993225%\n",
      "------------------------------------------------------------------------\n",
      "Average scores for all folds:\n",
      "> Val Accuracy: 94.29987668991089 (+- 2.6281846439853465)\n",
      "> Val Loss: 0.22165116171042124\n",
      "------------------------------------------------------------------------\n"
     ]
    }
   ],
   "source": [
    "# Average scores ==\n",
    "print('------------------------------------------------------------------------')\n",
    "print('Validation Score per fold')\n",
    "for i in range(0, len(acc_per_fold)):\n",
    "  print('------------------------------------------------------------------------')\n",
    "  print(f'> Fold {i+1} - Loss: {loss_per_fold[i]} - Accuracy: {acc_per_fold[i]}%')\n",
    "print('------------------------------------------------------------------------')\n",
    "print('Average scores for all folds:')\n",
    "print(f'> Val Accuracy: {np.mean(acc_per_fold)} (+- {np.std(acc_per_fold)})')\n",
    "print(f'> Val Loss: {np.mean(loss_per_fold)}')\n",
    "print('------------------------------------------------------------------------')"
   ]
  },
  {
   "cell_type": "code",
   "execution_count": 36,
   "id": "91160c7d-469e-4558-824b-998622a57ea2",
   "metadata": {},
   "outputs": [
    {
     "data": {
      "image/png": "[encoded data removed]",
      "text/plain": [
       "<Figure size 2160x1440 with 6 Axes>"
      ]
     },
     "metadata": {
      "needs_background": "light"
     },
     "output_type": "display_data"
    }
   ],
   "source": [
    "fig, axes = plt.subplots(num_folds, 2,sharex=True,figsize=(30,20))\n",
    "fig.suptitle('Cross-Validation Learning Curve')\n",
    "\n",
    "index_sub_plot=1\n",
    "for history in k_fold_history:\n",
    "    \n",
    "    axes[index_sub_plot-1,0].set_title('K-fold: {} Acc'.format(index_sub_plot))\n",
    "    axes[index_sub_plot-1,0].plot(history.history['accuracy'])\n",
    "    axes[index_sub_plot-1,0].plot(history.history['val_accuracy'])\n",
    "    axes[index_sub_plot-1,0].set_ylabel('accuracy')\n",
    "    axes[index_sub_plot-1,0].set_xlabel('epoch')\n",
    "    axes[index_sub_plot-1,0].legend(['train', 'test'], loc='upper left')\n",
    "    \n",
    "    axes[index_sub_plot-1,1].set_title('K-fold: {} Loss'.format(index_sub_plot))\n",
    "    axes[index_sub_plot-1,1].plot(history.history['loss'])\n",
    "    axes[index_sub_plot-1,1].plot(history.history['val_loss'])\n",
    "    axes[index_sub_plot-1,1].set_ylabel('loss')\n",
    "    axes[index_sub_plot-1,1].set_xlabel('epoch')\n",
    "    axes[index_sub_plot-1,1].legend(['train', 'test'], loc='upper left')\n",
    "    \n",
    "    index_sub_plot+=1"
   ]
  },
  {
   "cell_type": "code",
   "execution_count": 37,
   "id": "ad4dc8df-c77c-4002-8906-acdd7c428009",
   "metadata": {},
   "outputs": [
    {
     "name": "stdout",
     "output_type": "stream",
     "text": [
      "assets\tkeras_metadata.pb  saved_model.pb  variables\n"
     ]
    }
   ],
   "source": [
    "!ls {checkpoint_filepath}"
   ]
  },
  {
   "cell_type": "code",
   "execution_count": 38,
   "id": "182365e0-9241-4cb2-9982-9467a5793231",
   "metadata": {},
   "outputs": [],
   "source": [
    "checkpoint_path = 'training_lstm_v2/saved_model.pb' \n",
    "checkpoint_dir = os.path.dirname(checkpoint_path)\n",
    "optimal_model = tf.keras.models.load_model(checkpoint_dir)"
   ]
  },
  {
   "cell_type": "code",
   "execution_count": 39,
   "id": "cfd0bec3-2e2a-4214-b0cc-16f6cf2cc8a1",
   "metadata": {},
   "outputs": [
    {
     "name": "stderr",
     "output_type": "stream",
     "text": [
      "WARNING:absl:Function `_wrapped_model` contains input name(s) mel-spectral-input, mel-spectral2-input with unsupported characters which will be renamed to mel_spectral_input, mel_spectral2_input in the SavedModel.\n",
      "WARNING:absl:Found untraced functions such as lstm_cell_40_layer_call_and_return_conditional_losses, lstm_cell_40_layer_call_fn, lstm_cell_41_layer_call_and_return_conditional_losses, lstm_cell_41_layer_call_fn, lstm_cell_43_layer_call_and_return_conditional_losses while saving (showing 5 of 60). These functions will not be directly callable after loading.\n"
     ]
    },
    {
     "name": "stdout",
     "output_type": "stream",
     "text": [
      "INFO:tensorflow:Assets written to: my_model/assets\n"
     ]
    },
    {
     "name": "stderr",
     "output_type": "stream",
     "text": [
      "INFO:tensorflow:Assets written to: my_model/assets\n"
     ]
    }
   ],
   "source": [
    "optimal_model.save(\"my_model\")"
   ]
  },
  {
   "cell_type": "code",
   "execution_count": 40,
   "id": "ecdf577e-7816-4f2e-adc5-2d6c81f036eb",
   "metadata": {},
   "outputs": [
    {
     "name": "stdout",
     "output_type": "stream",
     "text": [
      "                precision    recall  f1-score   support\n",
      "\n",
      "Bronchiectasis       1.00      0.33      0.50        21\n",
      " Bronchiolitis       0.67      0.78      0.72        18\n",
      "          COPD       0.98      0.99      0.98      1180\n",
      "       Healthy       0.74      0.83      0.78        47\n",
      "     Pneumonia       0.83      0.69      0.76        49\n",
      "          URTI       0.64      0.60      0.62        30\n",
      "\n",
      "      accuracy                           0.95      1345\n",
      "     macro avg       0.81      0.70      0.73      1345\n",
      "  weighted avg       0.95      0.95      0.95      1345\n",
      "\n"
     ]
    },
    {
     "data": {
      "text/plain": [
       "<AxesSubplot:xlabel='Predicted', ylabel='Actual'>"
      ]
     },
     "execution_count": 40,
     "metadata": {},
     "output_type": "execute_result"
    },
    {
     "data": {
      "image/png": "[encoded data removed]",
      "text/plain": [
       "<Figure size 720x504 with 2 Axes>"
      ]
     },
     "metadata": {
      "needs_background": "light"
     },
     "output_type": "display_data"
    }
   ],
   "source": [
    "from sklearn.metrics import roc_auc_score, classification_report, confusion_matrix\n",
    "matrix_index = le.classes_\n",
    "\n",
    "preds = optimal_model.predict({'mel-spectral-input':x_mel1_val,'mel-spectral2-input':x_mel2_val})\n",
    "#preds = optimal_model.predict(x_mel1_val)\n",
    "classpreds = np.argmax(preds, axis=1) # predicted classes \n",
    "y_testclass = np.argmax(yval, axis=1) # true classes\n",
    "\n",
    "cm = confusion_matrix(y_testclass, classpreds)\n",
    "print(classification_report(y_testclass, classpreds, target_names=matrix_index))\n",
    "\n",
    "# Get percentage value for each element of the matrix\n",
    "cm_sum = np.sum(cm, axis=1, keepdims=True)\n",
    "cm_perc = cm / cm_sum.astype(float) * 100\n",
    "annot = np.empty_like(cm).astype(str)\n",
    "nrows, ncols = cm.shape\n",
    "for i in range(nrows):\n",
    "    for j in range(ncols):\n",
    "        c = cm[i, j]\n",
    "        p = cm_perc[i, j]\n",
    "        if i == j:\n",
    "            s = cm_sum[i]\n",
    "            annot[i, j] = '%.1f%%\\n%d/%d' % (p, c, s)\n",
    "        elif c == 0:\n",
    "            annot[i, j] = ''\n",
    "        else:\n",
    "            annot[i, j] = '%.1f%%\\n%d' % (p, c)\n",
    "\n",
    "\n",
    "# Display confusion matrix \n",
    "df_cm = pd.DataFrame(cm, index = matrix_index, columns = matrix_index)\n",
    "df_cm.index.name = 'Actual'\n",
    "df_cm.columns.name = 'Predicted'\n",
    "fig, ax = plt.subplots(figsize=(10,7))\n",
    "sns.heatmap(df_cm, annot=annot, fmt='')"
   ]
  },
  {
   "cell_type": "code",
   "execution_count": null,
   "id": "48c47994-4ba2-4be6-9f89-ed087331c228",
   "metadata": {},
   "outputs": [],
   "source": []
  }
 ],
 "metadata": {
  "kernelspec": {
   "display_name": "Python 3 (ipykernel)",
   "language": "python",
   "name": "python3"
  },
  "language_info": {
   "codemirror_mode": {
    "name": "ipython",
    "version": 3
   },
   "file_extension": ".py",
   "mimetype": "text/x-python",
   "name": "python",
   "nbconvert_exporter": "python",
   "pygments_lexer": "ipython3",
   "version": "3.9.9"
  }
 },
 "nbformat": 4,
 "nbformat_minor": 5
}
